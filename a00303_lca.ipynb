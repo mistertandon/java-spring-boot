{
 "cells": [
  {
   "cell_type": "code",
   "execution_count": 8,
   "metadata": {},
   "outputs": [],
   "source": [
    "import import_ipynb\n",
    "import pixiedust"
   ]
  },
  {
   "cell_type": "code",
   "execution_count": 9,
   "metadata": {},
   "outputs": [],
   "source": [
    "from a00300_binary_search_tree import BST"
   ]
  },
  {
   "cell_type": "code",
   "execution_count": 10,
   "metadata": {},
   "outputs": [],
   "source": [
    "from a000100_helper import print_variable_type, print_object"
   ]
  },
  {
   "cell_type": "code",
   "execution_count": null,
   "metadata": {},
   "outputs": [],
   "source": []
  },
  {
   "cell_type": "code",
   "execution_count": 11,
   "metadata": {},
   "outputs": [],
   "source": [
    "class LCA(BST):\n",
    "    def __init__(self):\n",
    "        super(LCA, self).__init__()\n",
    "        self.node_x = None\n",
    "        self.node_y = None\n",
    "        self.lca_node = None\n",
    "\n",
    "    \n",
    "    def find_lca(self, node):\n",
    "\n",
    "        if node is None:\n",
    "            return None\n",
    "\n",
    "        if self.lca_node is not None:\n",
    "            return None\n",
    "\n",
    "        found_node_x = 0\n",
    "        found_node_y = 0\n",
    "\n",
    "        result_analyze = self.find_lca(node.left)\n",
    "        if result_analyze is not None:\n",
    "\n",
    "            if result_analyze[0] == 1 and self.lca_node is None:\n",
    "                found_node_x = 1\n",
    "\n",
    "            if result_analyze[1] == 1 and self.lca_node is None:\n",
    "                found_node_y = 1\n",
    "\n",
    "\n",
    "        result_analyze = self.find_lca(node.right)\n",
    "        if result_analyze is not None:\n",
    "\n",
    "            if result_analyze[0] == 1 and self.lca_node is None:\n",
    "                found_node_x = 1\n",
    "\n",
    "            if result_analyze[1] == 1 and self.lca_node is None:\n",
    "                found_node_y = 1\n",
    "\n",
    "        if node.data == self.node_x:\n",
    "            found_node_x = 1\n",
    "\n",
    "        if node.data == self.node_y:\n",
    "            found_node_y = 1\n",
    "            \n",
    "        if found_node_x == 1 and found_node_y == 1:\n",
    "            self.lca_node = node\n",
    "\n",
    "        return (found_node_x, found_node_y)\n",
    "\n",
    "\n",
    "    def trigger_lca_search(self, x, y):\n",
    "        self.node_x = x\n",
    "        self.node_y = y\n",
    "        self.find_lca(self.root)\n",
    "        "
   ]
  },
  {
   "cell_type": "code",
   "execution_count": 12,
   "metadata": {},
   "outputs": [
    {
     "data": {
      "text/plain": [
       "True"
      ]
     },
     "execution_count": 12,
     "metadata": {},
     "output_type": "execute_result"
    }
   ],
   "source": [
    "lca_inst_i = LCA()\n",
    "lca_inst_i.insert(20)\n",
    "lca_inst_i.insert(15)\n",
    "lca_inst_i.insert(25)\n",
    "lca_inst_i.insert(17)\n",
    "lca_inst_i.insert(14)"
   ]
  },
  {
   "cell_type": "code",
   "execution_count": 13,
   "metadata": {
    "pixiedust": {
     "displayParams": {}
    }
   },
   "outputs": [],
   "source": [
    "#%%pixie_debugger\n",
    "#lca_inst_i.trigger_lca_search(15, 25)\n",
    "lca_inst_i.trigger_lca_search(20, 15)\n",
    "#lca_inst_i.trigger_lca_search(17, 14)"
   ]
  },
  {
   "cell_type": "code",
   "execution_count": 14,
   "metadata": {},
   "outputs": [
    {
     "name": "stdout",
     "output_type": "stream",
     "text": [
      "__main__.LCA(\n",
      "   lca_node = a00300_binary_search_tree.Node(\n",
      "         data = 20, \n",
      "         left = a00300_binary_search_tree.Node(\n",
      "               data = 15, \n",
      "               left = a00300_binary_search_tree.Node(\n",
      "                  data = 14,    left = None,    right = None), \n",
      "               right = a00300_binary_search_tree.Node(\n",
      "                  data = 17,    left = None,    right = None)\n",
      "            ), \n",
      "         right = a00300_binary_search_tree.Node(\n",
      "            data = 25,    left = None,    right = None)\n",
      "      ), \n",
      "   node_x = 20, \n",
      "   node_y = 15, \n",
      "   root = a00300_binary_search_tree.Node(\n",
      "         data = 20, \n",
      "         left = a00300_binary_search_tree.Node(\n",
      "               data = 15, \n",
      "               left = a00300_binary_search_tree.Node(\n",
      "                  data = 14,    left = None,    right = None), \n",
      "               right = a00300_binary_search_tree.Node(\n",
      "                  data = 17,    left = None,    right = None)\n",
      "            ), \n",
      "         right = a00300_binary_search_tree.Node(\n",
      "            data = 25,    left = None,    right = None)\n",
      "      )\n",
      ")\n"
     ]
    },
    {
     "data": {
      "text/plain": [
       "True"
      ]
     },
     "execution_count": 14,
     "metadata": {},
     "output_type": "execute_result"
    }
   ],
   "source": [
    "print_object(lca_inst_i)"
   ]
  }
 ],
 "metadata": {
  "kernelspec": {
   "display_name": "Python 3",
   "language": "python",
   "name": "python3"
  },
  "language_info": {
   "codemirror_mode": {
    "name": "ipython",
    "version": 3
   },
   "file_extension": ".py",
   "mimetype": "text/x-python",
   "name": "python",
   "nbconvert_exporter": "python",
   "pygments_lexer": "ipython3",
   "version": "3.6.8"
  },
  "toc": {
   "base_numbering": 1,
   "nav_menu": {},
   "number_sections": true,
   "sideBar": true,
   "skip_h1_title": false,
   "title_cell": "Table of Contents",
   "title_sidebar": "Contents",
   "toc_cell": false,
   "toc_position": {},
   "toc_section_display": true,
   "toc_window_display": false
  }
 },
 "nbformat": 4,
 "nbformat_minor": 2
}
