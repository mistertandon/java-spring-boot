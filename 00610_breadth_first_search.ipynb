{
 "cells": [
  {
   "cell_type": "code",
   "execution_count": 260,
   "metadata": {},
   "outputs": [],
   "source": [
    "import import_ipynb\n",
    "import a00600_graph_adjacency_list"
   ]
  },
  {
   "cell_type": "code",
   "execution_count": 261,
   "metadata": {},
   "outputs": [],
   "source": [
    "import pixiedust\n",
    "from ppretty import ppretty"
   ]
  },
  {
   "cell_type": "code",
   "execution_count": 262,
   "metadata": {},
   "outputs": [],
   "source": [
    "from IPython.core.interactiveshell import InteractiveShell\n",
    "InteractiveShell.ast_node_interactivity = 'all'"
   ]
  },
  {
   "cell_type": "code",
   "execution_count": 263,
   "metadata": {},
   "outputs": [],
   "source": [
    "#%run 00600_graph_adjacency_list.ipynb"
   ]
  },
  {
   "cell_type": "code",
   "execution_count": 264,
   "metadata": {},
   "outputs": [],
   "source": [
    "#print(ppretty(graph_inst, show_address=False, indent='   ',\n",
    "#              show_properties=True, show_static=True, show_protected=True, seq_length=20))"
   ]
  },
  {
   "cell_type": "code",
   "execution_count": 265,
   "metadata": {},
   "outputs": [],
   "source": [
    "#https://leetcode.com/problems/n-ary-tree-level-order-traversal/"
   ]
  },
  {
   "cell_type": "code",
   "execution_count": 266,
   "metadata": {},
   "outputs": [],
   "source": [
    "#graph_inst"
   ]
  },
  {
   "cell_type": "code",
   "execution_count": 267,
   "metadata": {},
   "outputs": [],
   "source": [
    "class BFS:\n",
    "    def __init__(self, graph):\n",
    "        self.graph = graph\n",
    "    \n",
    "    def bfs_search(self, vertex):\n",
    "        if self.graph.is_vertex_exist(vertex):\n",
    "            print('Vertex %s exists in graph'%(vertex))\n",
    "        else:\n",
    "            print('Vertex %s doesn\\'t exists in graph'%(vertex))"
   ]
  },
  {
   "cell_type": "code",
   "execution_count": 268,
   "metadata": {},
   "outputs": [],
   "source": [
    "bfs_inst = BFS(graph_inst)"
   ]
  },
  {
   "cell_type": "code",
   "execution_count": 269,
   "metadata": {},
   "outputs": [
    {
     "name": "stdout",
     "output_type": "stream",
     "text": [
      "__main__.BFS(\n",
      "   graph = __main__.Graph(\n",
      "         vertices = {\n",
      "               'a': __main__.Vertex(name = 'a', neighbours = ['b', 'c', 'e']), \n",
      "               'b': __main__.Vertex(name = 'b', neighbours = ['a', 'c', 'd']), \n",
      "               'c': __main__.Vertex(name = 'c', neighbours = ['a', 'b', 'd', 'e']), \n",
      "               'd': __main__.Vertex(\n",
      "                  name = 'd',    neighbours = ['b', 'c', 'e', 'f', 'g', 'h']), \n",
      "               'e': __main__.Vertex(\n",
      "                  name = 'e',    neighbours = ['a', 'c', 'd', 'f', 'i', 'j']), \n",
      "               'f': __main__.Vertex(name = 'f', neighbours = ['d', 'e', 'i', 'j']), \n",
      "               'g': __main__.Vertex(name = 'g', neighbours = ['d']), \n",
      "               'h': __main__.Vertex(name = 'h', neighbours = ['d']), \n",
      "               'i': __main__.Vertex(name = 'i', neighbours = ['e', 'f']), \n",
      "               'j': __main__.Vertex(name = 'j', neighbours = ['e', 'f'])\n",
      "            }\n",
      "      )\n",
      ")\n"
     ]
    }
   ],
   "source": [
    "print(ppretty(bfs_inst, show_address=False, indent='   ',\n",
    "              show_properties=True, show_static=True, show_protected=True, seq_length=30, depth=9))\n"
   ]
  },
  {
   "cell_type": "code",
   "execution_count": 270,
   "metadata": {},
   "outputs": [
    {
     "ename": "AttributeError",
     "evalue": "'Graph' object has no attribute 'is_vertex_exist'",
     "output_type": "error",
     "traceback": [
      "\u001b[1;31m---------------------------------------------------------------------------\u001b[0m",
      "\u001b[1;31mAttributeError\u001b[0m                            Traceback (most recent call last)",
      "\u001b[1;32m<ipython-input-270-6f81ec13e91e>\u001b[0m in \u001b[0;36m<module>\u001b[1;34m\u001b[0m\n\u001b[1;32m----> 1\u001b[1;33m \u001b[0mbfs_inst\u001b[0m\u001b[1;33m.\u001b[0m\u001b[0mbfs_search\u001b[0m\u001b[1;33m(\u001b[0m\u001b[1;34m'k'\u001b[0m\u001b[1;33m)\u001b[0m\u001b[1;33m\u001b[0m\u001b[1;33m\u001b[0m\u001b[0m\n\u001b[0m",
      "\u001b[1;32m<ipython-input-267-fa26eb25c0cc>\u001b[0m in \u001b[0;36mbfs_search\u001b[1;34m(self, vertex)\u001b[0m\n\u001b[0;32m      4\u001b[0m \u001b[1;33m\u001b[0m\u001b[0m\n\u001b[0;32m      5\u001b[0m     \u001b[1;32mdef\u001b[0m \u001b[0mbfs_search\u001b[0m\u001b[1;33m(\u001b[0m\u001b[0mself\u001b[0m\u001b[1;33m,\u001b[0m \u001b[0mvertex\u001b[0m\u001b[1;33m)\u001b[0m\u001b[1;33m:\u001b[0m\u001b[1;33m\u001b[0m\u001b[1;33m\u001b[0m\u001b[0m\n\u001b[1;32m----> 6\u001b[1;33m         \u001b[1;32mif\u001b[0m \u001b[0mself\u001b[0m\u001b[1;33m.\u001b[0m\u001b[0mgraph\u001b[0m\u001b[1;33m.\u001b[0m\u001b[0mis_vertex_exist\u001b[0m\u001b[1;33m(\u001b[0m\u001b[0mvertex\u001b[0m\u001b[1;33m)\u001b[0m\u001b[1;33m:\u001b[0m\u001b[1;33m\u001b[0m\u001b[1;33m\u001b[0m\u001b[0m\n\u001b[0m\u001b[0;32m      7\u001b[0m             \u001b[0mprint\u001b[0m\u001b[1;33m(\u001b[0m\u001b[1;34m'Vertex %s exists in graph'\u001b[0m\u001b[1;33m%\u001b[0m\u001b[1;33m(\u001b[0m\u001b[0mvertex\u001b[0m\u001b[1;33m)\u001b[0m\u001b[1;33m)\u001b[0m\u001b[1;33m\u001b[0m\u001b[1;33m\u001b[0m\u001b[0m\n\u001b[0;32m      8\u001b[0m         \u001b[1;32melse\u001b[0m\u001b[1;33m:\u001b[0m\u001b[1;33m\u001b[0m\u001b[1;33m\u001b[0m\u001b[0m\n",
      "\u001b[1;31mAttributeError\u001b[0m: 'Graph' object has no attribute 'is_vertex_exist'"
     ]
    }
   ],
   "source": [
    "bfs_inst.bfs_search('k')"
   ]
  }
 ],
 "metadata": {
  "kernelspec": {
   "display_name": "Python 3",
   "language": "python",
   "name": "python3"
  },
  "language_info": {
   "codemirror_mode": {
    "name": "ipython",
    "version": 3
   },
   "file_extension": ".py",
   "mimetype": "text/x-python",
   "name": "python",
   "nbconvert_exporter": "python",
   "pygments_lexer": "ipython3",
   "version": "3.6.8"
  }
 },
 "nbformat": 4,
 "nbformat_minor": 2
}
