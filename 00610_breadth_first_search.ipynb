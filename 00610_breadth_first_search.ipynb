{
 "cells": [
  {
   "cell_type": "code",
   "execution_count": 8,
   "metadata": {},
   "outputs": [],
   "source": [
    "from IPython.core.interactiveshell import InteractiveShell\n",
    "InteractiveShell.ast_node_interactivity = 'all'"
   ]
  },
  {
   "cell_type": "code",
   "execution_count": 9,
   "metadata": {},
   "outputs": [],
   "source": [
    "import pixiedust"
   ]
  },
  {
   "cell_type": "code",
   "execution_count": 10,
   "metadata": {},
   "outputs": [],
   "source": [
    "from a000100_helper import print_object, print_variable_type"
   ]
  },
  {
   "cell_type": "code",
   "execution_count": 11,
   "metadata": {},
   "outputs": [],
   "source": [
    "import import_ipynb\n",
    "from a00600_graph_adjacency_list import graph_inst"
   ]
  },
  {
   "cell_type": "code",
   "execution_count": 12,
   "metadata": {},
   "outputs": [],
   "source": [
    "class DFS:\n",
    "    def __init__(self, graph):\n",
    "\n",
    "        self.graph = graph\n",
    "        self.dfs_stack = list()\n",
    "        self.traversed_vertices = list()\n",
    "\n",
    "\n",
    "    def dfs_search(self, vertex):\n",
    "        \n",
    "        if self.graph.is_vertex_exist(vertex):\n",
    "            \n",
    "            self.dfs_stack.append(vertex)\n",
    "            while(len(self.dfs_stack)):\n",
    "                \n",
    "                vertex_ref = self.dfs_stack.pop()\n",
    "                \n",
    "                if self.traversed_vertices.count(vertex_ref) == 0:\n",
    "                    self.traversed_vertices.append(vertex_ref)\n",
    "                \n",
    "                vertex_neighbours = self.graph.get_vertex_neighbours(vertex_ref)\n",
    "                \n",
    "                if len(vertex_neighbours):\n",
    "                    \n",
    "                    for neighbour_vertex_name in vertex_neighbours:\n",
    "                        if self.traversed_vertices.count(neighbour_vertex_name) == 0:\n",
    "\n",
    "                            self.dfs_stack.append(neighbour_vertex_name)\n",
    "        else:\n",
    "            return False\n",
    "        \n",
    "    def display_dfs_search_result(self):\n",
    "        print_object(self.traversed_vertices)"
   ]
  },
  {
   "cell_type": "code",
   "execution_count": 13,
   "metadata": {},
   "outputs": [
    {
     "name": "stdout",
     "output_type": "stream",
     "text": [
      "__main__.DFS(\n",
      "   dfs_stack = [], \n",
      "   graph = a00600_graph_adjacency_list.Graph(\n",
      "         vertices = {\n",
      "               'a': a00600_graph_adjacency_list.Vertex(\n",
      "                  name = 'a',    neighbours = ['b', 'c', 'd']), \n",
      "               'b': a00600_graph_adjacency_list.Vertex(\n",
      "                  name = 'b',    neighbours = ['a', 'c', 'e']), \n",
      "               'c': a00600_graph_adjacency_list.Vertex(\n",
      "                  name = 'c',    neighbours = ['a', 'b', 'd', 'e']), \n",
      "               'd': a00600_graph_adjacency_list.Vertex(\n",
      "                  name = 'd',    neighbours = ['a', 'c', 'e']), \n",
      "               'e': a00600_graph_adjacency_list.Vertex(\n",
      "                  name = 'e',    neighbours = ['b', 'c', 'd', 'f', 'g', 'h']), \n",
      "               'f': a00600_graph_adjacency_list.Vertex(\n",
      "                  name = 'f',    neighbours = ['e', 'g', 'i', 'j']), \n",
      "               'g': a00600_graph_adjacency_list.Vertex(\n",
      "                  name = 'g',    neighbours = ['e', 'f', 'h', 'i', 'j']), \n",
      "               'h': a00600_graph_adjacency_list.Vertex(\n",
      "                  name = 'h',    neighbours = ['e', 'g']), \n",
      "               'i': a00600_graph_adjacency_list.Vertex(\n",
      "                  name = 'i',    neighbours = ['f', 'g']), \n",
      "               'j': a00600_graph_adjacency_list.Vertex(\n",
      "                  name = 'j',    neighbours = ['f', 'g'])\n",
      "            }\n",
      "      ), \n",
      "   traversed_vertices = []\n",
      ")\n"
     ]
    },
    {
     "data": {
      "text/plain": [
       "True"
      ]
     },
     "execution_count": 13,
     "metadata": {},
     "output_type": "execute_result"
    }
   ],
   "source": [
    "dfs_inst = DFS(graph_inst)\n",
    "print_object(dfs_inst)"
   ]
  },
  {
   "cell_type": "code",
   "execution_count": 14,
   "metadata": {},
   "outputs": [
    {
     "name": "stdout",
     "output_type": "stream",
     "text": [
      "Vertex 'a' exists in graph\n",
      "['a', 'd', 'e', 'h', 'g', 'j', 'f', 'i', 'c', 'b']\n"
     ]
    }
   ],
   "source": [
    "dfs_inst.dfs_search('a')\n",
    "dfs_inst.display_dfs_search_result()"
   ]
  }
 ],
 "metadata": {
  "kernelspec": {
   "display_name": "Python 3",
   "language": "python",
   "name": "python3"
  },
  "language_info": {
   "codemirror_mode": {
    "name": "ipython",
    "version": 3
   },
   "file_extension": ".py",
   "mimetype": "text/x-python",
   "name": "python",
   "nbconvert_exporter": "python",
   "pygments_lexer": "ipython3",
   "version": "3.6.8"
  },
  "toc": {
   "base_numbering": 1,
   "nav_menu": {},
   "number_sections": true,
   "sideBar": true,
   "skip_h1_title": false,
   "title_cell": "Table of Contents",
   "title_sidebar": "Contents",
   "toc_cell": false,
   "toc_position": {},
   "toc_section_display": true,
   "toc_window_display": false
  }
 },
 "nbformat": 4,
 "nbformat_minor": 2
}
