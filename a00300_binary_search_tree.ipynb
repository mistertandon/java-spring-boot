{
 "cells": [
  {
   "cell_type": "code",
   "execution_count": 20,
   "metadata": {},
   "outputs": [],
   "source": [
    "import pixiedust"
   ]
  },
  {
   "cell_type": "code",
   "execution_count": 21,
   "metadata": {},
   "outputs": [],
   "source": [
    "from a000100_helper import print_variable_type, print_object"
   ]
  },
  {
   "cell_type": "code",
   "execution_count": 22,
   "metadata": {},
   "outputs": [],
   "source": [
    "class Node():\n",
    "    \n",
    "    def __init__(self, data):\n",
    "        self.data = data\n",
    "        self.left = None\n",
    "        self.right = None"
   ]
  },
  {
   "cell_type": "code",
   "execution_count": 23,
   "metadata": {},
   "outputs": [],
   "source": [
    "class BST():\n",
    "    \n",
    "    def __init__(self):\n",
    "        self.root = None\n",
    "\n",
    "\n",
    "    def find_parent_node_to_insert_new_node(self, root_node, data):\n",
    "        \n",
    "        current_node = root_node\n",
    "        is_left_child = False\n",
    "        is_right_child = False\n",
    "        \n",
    "        while current_node is not None:\n",
    "            prev_parent = current_node\n",
    "            \n",
    "            if data <= current_node.data:\n",
    "                current_node = current_node.left\n",
    "                is_left_child = True\n",
    "                is_right_child = False\n",
    "            elif data > current_node.data:\n",
    "                current_node = current_node.right\n",
    "                is_left_child = False\n",
    "                is_right_child = True\n",
    "                \n",
    "        return (prev_parent, is_left_child, is_right_child)\n",
    "\n",
    "\n",
    "    def insert_new_node(self, parent_node, is_left_child, is_right_child, data):\n",
    "        \n",
    "        if is_left_child:\n",
    "            parent_node.left = Node(data)\n",
    "        else:\n",
    "            parent_node.right = Node(data)\n",
    "        \n",
    "        return True\n",
    "\n",
    "\n",
    "    def insert(self, data):\n",
    "        \n",
    "        if self.root is None:\n",
    "            self.root = Node(data)\n",
    "        else:\n",
    "            parent_node, is_left_child, is_right_child = self.find_parent_node_to_insert_new_node(self.root, data)\n",
    "            self.insert_new_node(parent_node, is_left_child, is_right_child, data)\n",
    "            \n",
    "        return True"
   ]
  },
  {
   "cell_type": "code",
   "execution_count": 24,
   "metadata": {
    "pixiedust": {
     "displayParams": {}
    }
   },
   "outputs": [
    {
     "data": {
      "text/plain": [
       "True"
      ]
     },
     "execution_count": 24,
     "metadata": {},
     "output_type": "execute_result"
    }
   ],
   "source": [
    "#%%pixie_debugger\n",
    "bst_inst = BST()\n",
    "bst_inst.insert(20)\n",
    "bst_inst.insert(15)\n",
    "bst_inst.insert(25)\n",
    "bst_inst.insert(17)\n",
    "bst_inst.insert(18)"
   ]
  },
  {
   "cell_type": "code",
   "execution_count": 25,
   "metadata": {},
   "outputs": [
    {
     "name": "stdout",
     "output_type": "stream",
     "text": [
      "__main__.BST at 0x1cea0783588 (\n",
      "   root = __main__.Node at 0x1cea0783550 (\n",
      "         data = 20, \n",
      "         left = __main__.Node at 0x1cea0783ba8 (\n",
      "               data = 15, \n",
      "               left = None, \n",
      "               right = __main__.Node at 0x1cea07833c8 (\n",
      "                     data = 17, \n",
      "                     left = None, \n",
      "                     right = __main__.Node at 0x1cea07940b8 (\n",
      "                        data = 18,    left = None,    right = None)\n",
      "                  )\n",
      "            ), \n",
      "         right = __main__.Node at 0x1cea0783a58 (\n",
      "            data = 25,    left = None,    right = None)\n",
      "      )\n",
      ")\n"
     ]
    },
    {
     "data": {
      "text/plain": [
       "True"
      ]
     },
     "execution_count": 25,
     "metadata": {},
     "output_type": "execute_result"
    }
   ],
   "source": [
    "print_object(bst_inst, show_address=True)"
   ]
  }
 ],
 "metadata": {
  "kernelspec": {
   "display_name": "Python 3",
   "language": "python",
   "name": "python3"
  },
  "language_info": {
   "codemirror_mode": {
    "name": "ipython",
    "version": 3
   },
   "file_extension": ".py",
   "mimetype": "text/x-python",
   "name": "python",
   "nbconvert_exporter": "python",
   "pygments_lexer": "ipython3",
   "version": "3.6.8"
  },
  "toc": {
   "base_numbering": 1,
   "nav_menu": {},
   "number_sections": true,
   "sideBar": true,
   "skip_h1_title": false,
   "title_cell": "Table of Contents",
   "title_sidebar": "Contents",
   "toc_cell": false,
   "toc_position": {},
   "toc_section_display": true,
   "toc_window_display": false
  }
 },
 "nbformat": 4,
 "nbformat_minor": 2
}
