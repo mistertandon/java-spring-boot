{
 "cells": [
  {
   "cell_type": "code",
   "execution_count": 1,
   "metadata": {},
   "outputs": [],
   "source": [
    "from a000100_helper import print_variable_type, print_object"
   ]
  },
  {
   "cell_type": "code",
   "execution_count": 2,
   "metadata": {},
   "outputs": [
    {
     "name": "stdout",
     "output_type": "stream",
     "text": [
      "Pixiedust database opened successfully\n"
     ]
    },
    {
     "data": {
      "text/html": [
       "\n",
       "        <div style=\"margin:10px\">\n",
       "            <a href=\"https://github.com/ibm-watson-data-lab/pixiedust\" target=\"_new\">\n",
       "                <img src=\"https://github.com/ibm-watson-data-lab/pixiedust/raw/master/docs/_static/pd_icon32.png\" style=\"float:left;margin-right:10px\"/>\n",
       "            </a>\n",
       "            <span>Pixiedust version 1.1.17</span>\n",
       "        </div>\n",
       "        "
      ],
      "text/plain": [
       "<IPython.core.display.HTML object>"
      ]
     },
     "metadata": {},
     "output_type": "display_data"
    }
   ],
   "source": [
    "import pixiedust"
   ]
  },
  {
   "cell_type": "code",
   "execution_count": 3,
   "metadata": {},
   "outputs": [],
   "source": [
    "class Binaryheap(object):\n",
    "\n",
    "    def __init__(self):\n",
    "        self.heap = list()\n",
    "\n",
    "    def get_parent_index(self, index):\n",
    "        return int((index - 1)/2)\n",
    "\n",
    "\n",
    "    def bubble_up_element(self, current_index):\n",
    "\n",
    "        if (self.get_heap_length() -1) != 0:\n",
    "\n",
    "            while current_index != 0:\n",
    "                parent_index = self.get_parent_index(current_index)\n",
    "                if self.heap[parent_index] > self.heap[current_index]:\n",
    "                    self.swap(current_index, parent_index)    \n",
    "                    current_index = parent_index\n",
    "                else:\n",
    "                    current_index = 0\n",
    "\n",
    "\n",
    "    def add(self, element):\n",
    "\n",
    "        self.heap.append(element)\n",
    "        \n",
    "        current_index = self.get_heap_length() - 1\n",
    "        self.bubble_up_element(current_index)\n",
    "\n",
    "\n",
    "    def has_left_child(self, parent_index):\n",
    "        return True if ((len(self.heap) - 1 ) >= ( 2 * parent_index + 1 )) else False\n",
    "\n",
    "\n",
    "    def has_right_child(self, parent_index):\n",
    "        return True if ((len(self.heap) - 1 ) >= ( 2 * parent_index + 2 )) else False        \n",
    "\n",
    "\n",
    "    def get_left_child(self, parent_index):\n",
    "        return ((2 * parent_index + 1), self.heap[2 * parent_index + 1])\n",
    "\n",
    "\n",
    "    def get_right_child(self, parent_index):\n",
    "        return ((2 * parent_index + 2), self.heap[2 * parent_index + 2])\n",
    "\n",
    "\n",
    "    def get_heap_length(self):\n",
    "        return len(self.heap)\n",
    "\n",
    "\n",
    "    def swap(self, index_i, index_ii):\n",
    "        temp = self.heap[index_i]\n",
    "        self.heap[index_i] = self.heap[index_ii]\n",
    "        self.heap[index_ii] = temp\n",
    "\n",
    "\n",
    "    def heapify_down(self, index = 0):\n",
    "        current_index = index\n",
    "        is_left_child_exist = self.has_left_child(current_index)\n",
    "        is_right_child_exist = self.has_right_child(current_index)\n",
    "        \n",
    "        while is_left_child_exist or is_right_child_exist:\n",
    "\n",
    "            if is_left_child_exist and is_right_child_exist:\n",
    "                left_child_index, left_child = self.get_left_child(current_index)\n",
    "                right_child_index, right_child = self.get_right_child(current_index)\n",
    "                min_element_index, min_element = (left_child_index, left_child) if left_child < right_child else (right_child_index, right_child)\n",
    "                \n",
    "                if self.heap[current_index] > min_element:\n",
    "                    self.swap(current_index, min_element_index)\n",
    "                    current_index = min_element_index\n",
    "            else:\n",
    "                left_child_index, left_child = self.get_left_child(current_index)\n",
    "                self.swap(current_index, left_child_index)\n",
    "                current_index = left_child_index\n",
    "\n",
    "            is_left_child_exist = self.has_left_child(current_index)\n",
    "            is_right_child_exist = self.has_right_child(current_index)        \n",
    "\n",
    "\n",
    "    def remove(self, index = 0):\n",
    "\n",
    "        if self.get_heap_length() == 0:\n",
    "            print('Heap is empty, couldn\\'t perform remove operation.')\n",
    "            return\n",
    "    \n",
    "        self.heap[0] = self.heap.pop()\n",
    "        self.heapify_down()\n",
    "\n",
    "    \n",
    "    def dispaly_heap(self):\n",
    "        print_object(self.heap)\n"
   ]
  },
  {
   "cell_type": "code",
   "execution_count": 4,
   "metadata": {},
   "outputs": [],
   "source": [
    "binary_heap_inst = Binaryheap()"
   ]
  },
  {
   "cell_type": "code",
   "execution_count": 5,
   "metadata": {
    "pixiedust": {
     "displayParams": {}
    }
   },
   "outputs": [
    {
     "name": "stdout",
     "output_type": "stream",
     "text": [
      "[10, 15, 20, 35]\n"
     ]
    }
   ],
   "source": [
    "#%%pixie_debugger\n",
    "binary_heap_inst.add(10)\n",
    "binary_heap_inst.add(15)\n",
    "binary_heap_inst.add(20)\n",
    "binary_heap_inst.add(35)\n",
    "binary_heap_inst.dispaly_heap()"
   ]
  },
  {
   "cell_type": "code",
   "execution_count": 6,
   "metadata": {},
   "outputs": [
    {
     "name": "stdout",
     "output_type": "stream",
     "text": [
      "[15, 35, 20]\n"
     ]
    }
   ],
   "source": [
    "binary_heap_inst.remove()\n",
    "binary_heap_inst.dispaly_heap()"
   ]
  }
 ],
 "metadata": {
  "kernelspec": {
   "display_name": "Python 3",
   "language": "python",
   "name": "python3"
  },
  "language_info": {
   "codemirror_mode": {
    "name": "ipython",
    "version": 3
   },
   "file_extension": ".py",
   "mimetype": "text/x-python",
   "name": "python",
   "nbconvert_exporter": "python",
   "pygments_lexer": "ipython3",
   "version": "3.6.8"
  },
  "toc": {
   "base_numbering": 1,
   "nav_menu": {},
   "number_sections": true,
   "sideBar": true,
   "skip_h1_title": false,
   "title_cell": "Table of Contents",
   "title_sidebar": "Contents",
   "toc_cell": false,
   "toc_position": {},
   "toc_section_display": true,
   "toc_window_display": false
  }
 },
 "nbformat": 4,
 "nbformat_minor": 2
}
