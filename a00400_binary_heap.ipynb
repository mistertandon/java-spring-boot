{
 "cells": [
  {
   "cell_type": "code",
   "execution_count": 30,
   "metadata": {},
   "outputs": [],
   "source": [
    "from a000100_helper import print_variable_type, print_object"
   ]
  },
  {
   "cell_type": "code",
   "execution_count": 31,
   "metadata": {},
   "outputs": [],
   "source": [
    "import pixiedust"
   ]
  },
  {
   "cell_type": "code",
   "execution_count": 32,
   "metadata": {},
   "outputs": [],
   "source": [
    "class Binaryheap(object):\n",
    "\n",
    "    def __init__(self):\n",
    "        self.heap = list()\n",
    "\n",
    "    def get_parent_index(self, index):\n",
    "        return int((index - 1)/2)\n",
    "\n",
    "\n",
    "    def bubble_up_node(self, current_index)\n",
    "\n",
    "        if (self.get_heap_length() -1) != 0:\n",
    "\n",
    "            while current_index != 0:\n",
    "                parent_index = self.get_parent_index(current_index)\n",
    "                if self.heap[parent_index] > self.heap[current_index]:\n",
    "\n",
    "                    temp = self.heap[parent_index]\n",
    "                    self.heap[parent_index] = self.heap[current_index]\n",
    "                    self.heap[current_index] = temp\n",
    "                    current_index = parent_index\n",
    "                else:\n",
    "                    current_index = 0\n",
    "\n",
    "\n",
    "    def add(self, element):\n",
    "\n",
    "        self.heap.append(element)\n",
    "        \n",
    "        current_index = self.get_heap_length() - 1\n",
    "        bubble_up_node(current_index)\n",
    "\n",
    "#         if (self.get_heap_length() -1) != 0:\n",
    "            \n",
    "#             while current_node != 0:\n",
    "#                 parent_index = self.get_parent_index(current_node)\n",
    "#                 if self.heap[parent_index] > element:\n",
    "\n",
    "#                     temp = self.heap[parent_index]\n",
    "#                     self.heap[parent_index] = self.heap[current_node]\n",
    "#                     self.heap[current_node] = temp\n",
    "#                     current_node = parent_index\n",
    "#                 else:\n",
    "#                     current_node = 0\n",
    "\n",
    "\n",
    "    def get_left_child(self, parent_index):\n",
    "        \n",
    "        if (len(self.heap) >= ( 2 * parent_index + 1 )):\n",
    "            return self.heap[2 * parent_index + 1]\n",
    "        else:\n",
    "            return None\n",
    "\n",
    "\n",
    "    def get_right_child(self, parent_index):\n",
    "\n",
    "        if (len(self.heap) >= ( 2 * parent_index + 2 )):\n",
    "            return self.heap[2 * parent_index + 2]\n",
    "        else:\n",
    "            return None        \n",
    "\n",
    "\n",
    "    def get_heap_length(self):\n",
    "        return len(self.heap)\n",
    "\n",
    "\n",
    "    def remove(self, index = 0):\n",
    "\n",
    "        if get_heap_length() == 0:\n",
    "            print('Heap is empty, couldn\\'t perform remove operation.')\n",
    "            return\n",
    "\n",
    "        right_child = get_right_child(index)\n",
    "        left_child = get_left_child(index)\n",
    "\n",
    "        if right_child is None and left_child is None:\n",
    "            print('Heap was consisted of single element.')\n",
    "            return\n",
    "        \n",
    "    \n",
    "    def dispaly_heap(self):\n",
    "        print_object(self.heap)\n"
   ]
  },
  {
   "cell_type": "code",
   "execution_count": 33,
   "metadata": {},
   "outputs": [],
   "source": [
    "binary_heap_inst = Binaryheap()"
   ]
  },
  {
   "cell_type": "code",
   "execution_count": 34,
   "metadata": {
    "pixiedust": {
     "displayParams": {}
    }
   },
   "outputs": [],
   "source": [
    "binary_heap_inst.add(10)"
   ]
  },
  {
   "cell_type": "code",
   "execution_count": 35,
   "metadata": {
    "pixiedust": {
     "displayParams": {}
    }
   },
   "outputs": [
    {
     "name": "stdout",
     "output_type": "stream",
     "text": [
      "[5, 6, 8, 10, 7]\n"
     ]
    }
   ],
   "source": [
    "#%%pixie_debugger\n",
    "binary_heap_inst.add(8)\n",
    "binary_heap_inst.add(7)\n",
    "binary_heap_inst.add(6)\n",
    "binary_heap_inst.add(5)\n",
    "binary_heap_inst.dispaly_heap()"
   ]
  }
 ],
 "metadata": {
  "kernelspec": {
   "display_name": "Python 3",
   "language": "python",
   "name": "python3"
  },
  "language_info": {
   "codemirror_mode": {
    "name": "ipython",
    "version": 3
   },
   "file_extension": ".py",
   "mimetype": "text/x-python",
   "name": "python",
   "nbconvert_exporter": "python",
   "pygments_lexer": "ipython3",
   "version": "3.6.8"
  },
  "toc": {
   "base_numbering": 1,
   "nav_menu": {},
   "number_sections": true,
   "sideBar": true,
   "skip_h1_title": false,
   "title_cell": "Table of Contents",
   "title_sidebar": "Contents",
   "toc_cell": false,
   "toc_position": {},
   "toc_section_display": true,
   "toc_window_display": false
  }
 },
 "nbformat": 4,
 "nbformat_minor": 2
}
