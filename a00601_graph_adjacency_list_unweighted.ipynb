{
 "cells": [
  {
   "cell_type": "code",
   "execution_count": null,
   "metadata": {},
   "outputs": [],
   "source": [
    "import pixiedust"
   ]
  },
  {
   "cell_type": "code",
   "execution_count": null,
   "metadata": {},
   "outputs": [],
   "source": [
    "from a000100_helper import print_object, print_variable_type"
   ]
  },
  {
   "cell_type": "code",
   "execution_count": null,
   "metadata": {},
   "outputs": [],
   "source": [
    "from IPython.core.interactiveshell import InteractiveShell\n",
    "InteractiveShell.ast_node_interactivity = 'all'"
   ]
  },
  {
   "cell_type": "code",
   "execution_count": null,
   "metadata": {},
   "outputs": [],
   "source": [
    "class Vertex:\n",
    "    def __init__(self, name):\n",
    "        self.name = name\n",
    "        self.neighbours = list()\n",
    "    \n",
    "    \n",
    "    def add_neighbour(self, neighbour):\n",
    "        if(neighbour not in self.neighbours):\n",
    "            self.neighbours.append(neighbour)\n",
    "            self.neighbours.sort()\n",
    "            \n",
    "            return True\n",
    "        else:\n",
    "            return False\n",
    "    \n",
    "    def get_neighbours(self):\n",
    "        return self.neighbours\n",
    "    \n",
    "    def get_name(self):\n",
    "        return self.name    "
   ]
  },
  {
   "cell_type": "code",
   "execution_count": null,
   "metadata": {},
   "outputs": [],
   "source": [
    "InteractiveShell.ast_node_interactivity = 'none'"
   ]
  },
  {
   "cell_type": "code",
   "execution_count": null,
   "metadata": {},
   "outputs": [],
   "source": [
    "vertex_a = Vertex('DEMO_VERTEX')\n",
    "vertex_a.add_neighbour('C')\n",
    "vertex_a.add_neighbour('E')\n",
    "vertex_a.add_neighbour('B')\n",
    "vertex_a.add_neighbour('B')"
   ]
  },
  {
   "cell_type": "code",
   "execution_count": null,
   "metadata": {},
   "outputs": [],
   "source": [
    "print_object(vertex_a, indent=' ', width=40, seq_length=10,\n",
    "              show_protected=True, show_static=True, show_properties=True, show_address=False)"
   ]
  },
  {
   "cell_type": "code",
   "execution_count": null,
   "metadata": {},
   "outputs": [],
   "source": [
    "class Graph:\n",
    "    vertices = {}\n",
    "\n",
    "    def add_vertex(self, vertex):\n",
    "        if( isinstance(vertex, Vertex) and (vertex.name not in self.vertices)):\n",
    "            self.vertices[vertex.name] = vertex\n",
    "            print('Vertex %s has been added to graph'%(vertex.name))\n",
    "            \n",
    "            return True\n",
    "        else:\n",
    "            print('Vertex %s already exists in graph'%(vertex.name))\n",
    "            \n",
    "            return False\n",
    "\n",
    "\n",
    "    def add_edge(self, u, v):\n",
    "\n",
    "        if u in self.vertices and v in self.vertices:\n",
    "\n",
    "            for key, value in self.vertices.items():\n",
    "                if key == u:\n",
    "                    value.add_neighbour(v)\n",
    "                if key == v:\n",
    "                    value.add_neighbour(u)   \n",
    "\n",
    "            return True\n",
    "        else:\n",
    "            return False\n",
    "    \n",
    "    def is_vertex_exist(self, vertex):\n",
    "        \n",
    "        if vertex not in self.vertices:\n",
    "            print('Vertex \\'%s\\' doesn\\'t exists in graph'%(vertex))\n",
    "            return False\n",
    "        else:\n",
    "            print('Vertex \\'%s\\' exists in graph'%(vertex))\n",
    "            return True\n",
    "    \n",
    "\n",
    "    def get_vertex_neighbours(self, vertex):\n",
    "        \n",
    "        vertex_obj = self.vertices.get(vertex)\n",
    "        \n",
    "        return vertex_obj.get_neighbours()"
   ]
  },
  {
   "cell_type": "code",
   "execution_count": null,
   "metadata": {},
   "outputs": [],
   "source": [
    "graph_inst = Graph()"
   ]
  },
  {
   "cell_type": "code",
   "execution_count": null,
   "metadata": {},
   "outputs": [],
   "source": [
    "InteractiveShell.ast_node_interactivity = 'none'"
   ]
  },
  {
   "cell_type": "code",
   "execution_count": null,
   "metadata": {},
   "outputs": [],
   "source": [
    "for vertex_name in range(ord('a'), ord('k')):\n",
    "    graph_inst.add_vertex(Vertex(chr(vertex_name)))"
   ]
  },
  {
   "cell_type": "code",
   "execution_count": null,
   "metadata": {},
   "outputs": [],
   "source": [
    "edges = ['ab', 'ac', 'ad', 'bc', 'be', 'cd', 'ce', 'de', 'ef', 'eg', 'eh', 'fg', 'fi', 'fj', 'gh', 'gi', 'gj']"
   ]
  },
  {
   "cell_type": "code",
   "execution_count": null,
   "metadata": {},
   "outputs": [],
   "source": [
    "for edge in edges:\n",
    "    graph_inst.add_edge(edge[:1], edge[1:])"
   ]
  },
  {
   "cell_type": "code",
   "execution_count": null,
   "metadata": {},
   "outputs": [],
   "source": [
    "print_object(graph_inst)"
   ]
  }
 ],
 "metadata": {
  "kernelspec": {
   "display_name": "Python 3",
   "language": "python",
   "name": "python3"
  },
  "language_info": {
   "codemirror_mode": {
    "name": "ipython",
    "version": 3
   },
   "file_extension": ".py",
   "mimetype": "text/x-python",
   "name": "python",
   "nbconvert_exporter": "python",
   "pygments_lexer": "ipython3",
   "version": "3.6.8"
  },
  "toc": {
   "base_numbering": 1,
   "nav_menu": {},
   "number_sections": true,
   "sideBar": true,
   "skip_h1_title": false,
   "title_cell": "Table of Contents",
   "title_sidebar": "Contents",
   "toc_cell": false,
   "toc_position": {},
   "toc_section_display": true,
   "toc_window_display": false
  }
 },
 "nbformat": 4,
 "nbformat_minor": 2
}
