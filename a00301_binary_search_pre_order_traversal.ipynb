{
 "cells": [
  {
   "cell_type": "code",
   "execution_count": 60,
   "metadata": {},
   "outputs": [],
   "source": [
    "from IPython.core.interactiveshell import InteractiveShell\n",
    "InteractiveShell.ast_node_interactivity = 'none'"
   ]
  },
  {
   "cell_type": "code",
   "execution_count": 61,
   "metadata": {},
   "outputs": [],
   "source": [
    "from a000100_helper import print_object, print_variable_type"
   ]
  },
  {
   "cell_type": "code",
   "execution_count": 62,
   "metadata": {},
   "outputs": [],
   "source": [
    "import import_ipynb\n",
    "from a00300_binary_search_tree import BST, Node"
   ]
  },
  {
   "cell_type": "code",
   "execution_count": 63,
   "metadata": {},
   "outputs": [],
   "source": [
    "class PreOrderTraversal(BST):\n",
    "    \n",
    "    def __init__(self):\n",
    "        super(PreOrderTraversal, self).__init__()\n",
    "        self.traversedNodePath = list()\n",
    "\n",
    "\n",
    "    def pre_order_traversal(self, parent_node):\n",
    "        \n",
    "        if parent_node is not None:\n",
    "            \n",
    "            self.traversedNodePath.append(parent_node.data)\n",
    "            self.pre_order_traversal(parent_node.left)\n",
    "            self.pre_order_traversal(parent_node.right)\n",
    "\n",
    "        return True\n",
    "\n",
    "\n",
    "    def start_traversing(self):\n",
    "\n",
    "        if self.root is None:\n",
    "            print('Couldn\\'t traversed as Tree is empty')\n",
    "            return False\n",
    "        else:\n",
    "            self.pre_order_traversal(self.root)\n",
    "            \n",
    "    def display_pre_order_traversed_path(self):\n",
    "        print_object(self.traversedNodePath)"
   ]
  },
  {
   "cell_type": "code",
   "execution_count": 64,
   "metadata": {},
   "outputs": [],
   "source": [
    "bst_inst_a = PreOrderTraversal()\n",
    "bst_inst_a.insert(200)\n",
    "bst_inst_a.insert(100)\n",
    "bst_inst_a.insert(50)\n",
    "bst_inst_a.insert(150)\n",
    "bst_inst_a.insert(25)\n",
    "bst_inst_a.insert(75)\n",
    "bst_inst_a.insert(125)\n",
    "bst_inst_a.insert(175)"
   ]
  },
  {
   "cell_type": "code",
   "execution_count": 65,
   "metadata": {},
   "outputs": [],
   "source": [
    "bst_inst_a.start_traversing()"
   ]
  },
  {
   "cell_type": "code",
   "execution_count": 66,
   "metadata": {},
   "outputs": [
    {
     "name": "stdout",
     "output_type": "stream",
     "text": [
      "[200, 100, 50, 25, 75, 150, 125, 175]\n"
     ]
    }
   ],
   "source": [
    "bst_inst_a.display_pre_order_traversed_path()"
   ]
  },
  {
   "cell_type": "code",
   "execution_count": 67,
   "metadata": {},
   "outputs": [
    {
     "name": "stdout",
     "output_type": "stream",
     "text": [
      "__main__.PreOrderTraversal(\n",
      "   root = a00300_binary_search_tree.Node(\n",
      "         data = 200, \n",
      "         left = a00300_binary_search_tree.Node(\n",
      "               data = 100, \n",
      "               left = a00300_binary_search_tree.Node(\n",
      "                     data = 50, \n",
      "                     left = a00300_binary_search_tree.Node(\n",
      "                        data = 25,    left = None,    right = None), \n",
      "                     right = a00300_binary_search_tree.Node(\n",
      "                        data = 75,    left = None,    right = None)\n",
      "                  ), \n",
      "               right = a00300_binary_search_tree.Node(\n",
      "                     data = 150, \n",
      "                     left = a00300_binary_search_tree.Node(\n",
      "                        data = 125,    left = None,    right = None), \n",
      "                     right = a00300_binary_search_tree.Node(\n",
      "                        data = 175,    left = None,    right = None)\n",
      "                  )\n",
      "            ), \n",
      "         right = None\n",
      "      ), \n",
      "   traversedNodePath = [200, 100, 50, 25, 75, 150, 125, 175]\n",
      ")\n"
     ]
    }
   ],
   "source": [
    "print_object(bst_inst_a, depth=5)"
   ]
  }
 ],
 "metadata": {
  "kernelspec": {
   "display_name": "Python 3",
   "language": "python",
   "name": "python3"
  },
  "language_info": {
   "codemirror_mode": {
    "name": "ipython",
    "version": 3
   },
   "file_extension": ".py",
   "mimetype": "text/x-python",
   "name": "python",
   "nbconvert_exporter": "python",
   "pygments_lexer": "ipython3",
   "version": "3.6.8"
  },
  "toc": {
   "base_numbering": 1,
   "nav_menu": {},
   "number_sections": true,
   "sideBar": true,
   "skip_h1_title": false,
   "title_cell": "Table of Contents",
   "title_sidebar": "Contents",
   "toc_cell": false,
   "toc_position": {},
   "toc_section_display": true,
   "toc_window_display": false
  }
 },
 "nbformat": 4,
 "nbformat_minor": 2
}
