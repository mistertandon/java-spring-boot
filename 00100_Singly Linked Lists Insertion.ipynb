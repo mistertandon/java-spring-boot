{
 "cells": [
  {
   "cell_type": "code",
   "execution_count": 39,
   "metadata": {},
   "outputs": [],
   "source": [
    "from IPython.core.interactiveshell import InteractiveShell\n",
    "InteractiveShell.ast_node_interactivity = 'all'"
   ]
  },
  {
   "cell_type": "code",
   "execution_count": 40,
   "metadata": {},
   "outputs": [],
   "source": [
    "class Node():\n",
    "    \n",
    "    def __init__(self, data):\n",
    "        self.data = data\n",
    "        self.next = None"
   ]
  },
  {
   "cell_type": "code",
   "execution_count": 41,
   "metadata": {},
   "outputs": [],
   "source": [
    "class LinkedList():\n",
    "    \n",
    "    def __init__(self):\n",
    "        self.head = None\n",
    "        self.length = 0\n",
    "\n",
    "\n",
    "    def print_linked_list(self):\n",
    "        \n",
    "        if self.head is None:\n",
    "            print('Linked List is empty')\n",
    "            return False\n",
    "        \n",
    "        current_node = self.head\n",
    "        while current_node:\n",
    "            print(current_node.data)\n",
    "            current_node = current_node.next\n",
    "\n",
    "\n",
    "    def calculate_linked_list_length(self):\n",
    "\n",
    "        if self.head is None:\n",
    "            self.length = 0\n",
    "        else:\n",
    "            linked_list_length = 0\n",
    "            current_node = self.head\n",
    "            while current_node is not None:\n",
    "                linked_list_length += 1\n",
    "                current_node = current_node.next\n",
    "\n",
    "            self.length = linked_list_length\n",
    "        \n",
    "        return True\n",
    "\n",
    "\n",
    "    def prepend_node(self, data):\n",
    "        node_inst = Node(data)\n",
    "        \n",
    "        node_inst.next = self.head\n",
    "        self.head = node_inst\n",
    "        \n",
    "        return True\n",
    "        \n",
    "\n",
    "    def append_node(self, data):\n",
    "\n",
    "        node_inst = Node(data)\n",
    "\n",
    "        if self.head is None:\n",
    "            self.head = node_inst\n",
    "        else:\n",
    "            prev_node = self.head\n",
    "            while prev_node.next is not None:\n",
    "                prev_node = prev_node.next\n",
    "            prev_node.next = node_inst\n",
    "\n",
    "\n",
    "    def insert_node_at_nth_place(self, nth_place, data):\n",
    "        if nth_place < 0:\n",
    "            self.print_invalid_node_position_message(nth_place)\n",
    "            return False\n",
    "        \n",
    "        self.calculate_linked_list_length()\n",
    "        if self.length < nth_place:\n",
    "            self.print_invalid_node_position_message(nth_place)\n",
    "            return False\n",
    "        \n",
    "        current_node = self.head\n",
    "        count = 0\n",
    "        while current_node.next:\n",
    "            count += 1\n",
    "            if count == nth_place:\n",
    "                break\n",
    "            else:\n",
    "                current_node = current_node.next\n",
    "        \n",
    "        new_node = Node(data)\n",
    "        new_node.next = current_node.next\n",
    "        current_node.next = new_node\n",
    "        \n",
    "        return True\n",
    "\n",
    "    def delete_node_at_last(self):\n",
    "        \n",
    "        if self.head is None:\n",
    "            self.print_empty_linked_list_message()\n",
    "\n",
    "        current_node = self.head\n",
    "        if current_node.next is None:\n",
    "            self.head = None\n",
    "        else:\n",
    "            while current_node.next is not None:\n",
    "                prev_node = current_node\n",
    "                current_node = current_node.next\n",
    "            else:\n",
    "                prev_node.next = None\n",
    "        \n",
    "        return True\n",
    "\n",
    "\n",
    "    def print_linked_list_length(self):\n",
    "        print('Linked List Length : {}'.format(self.length))\n",
    "\n",
    "        \n",
    "    def print_empty_linked_list_message():\n",
    "        print('Linked List is empty')\n",
    "        \n",
    "        \n",
    "    def print_invalid_node_position_message(node_position):\n",
    "        print('Node at position {node_position} does not exist'.format())"
   ]
  },
  {
   "cell_type": "code",
   "execution_count": 42,
   "metadata": {},
   "outputs": [
    {
     "data": {
      "text/plain": [
       "<__main__.LinkedList at 0x1f4459d5278>"
      ]
     },
     "execution_count": 42,
     "metadata": {},
     "output_type": "execute_result"
    }
   ],
   "source": [
    "linked_list_inst = LinkedList()\n",
    "linked_list_inst"
   ]
  },
  {
   "cell_type": "code",
   "execution_count": 43,
   "metadata": {},
   "outputs": [],
   "source": [
    "linked_list_inst.append_node(\"A\")\n",
    "linked_list_inst.append_node(\"B\")\n",
    "linked_list_inst.append_node(\"D\")"
   ]
  },
  {
   "cell_type": "code",
   "execution_count": 44,
   "metadata": {},
   "outputs": [
    {
     "name": "stdout",
     "output_type": "stream",
     "text": [
      "A\n",
      "B\n",
      "D\n"
     ]
    }
   ],
   "source": [
    "linked_list_inst.print_linked_list()"
   ]
  },
  {
   "cell_type": "code",
   "execution_count": 45,
   "metadata": {},
   "outputs": [
    {
     "data": {
      "text/plain": [
       "True"
      ]
     },
     "execution_count": 45,
     "metadata": {},
     "output_type": "execute_result"
    },
    {
     "name": "stdout",
     "output_type": "stream",
     "text": [
      "Linked List Length : 3\n"
     ]
    }
   ],
   "source": [
    "linked_list_inst.calculate_linked_list_length()\n",
    "linked_list_inst.print_linked_list_length()"
   ]
  },
  {
   "cell_type": "code",
   "execution_count": 46,
   "metadata": {},
   "outputs": [
    {
     "data": {
      "text/plain": [
       "True"
      ]
     },
     "execution_count": 46,
     "metadata": {},
     "output_type": "execute_result"
    }
   ],
   "source": [
    "linked_list_inst.insert_node_at_nth_place(2, \"C\")"
   ]
  },
  {
   "cell_type": "code",
   "execution_count": 47,
   "metadata": {},
   "outputs": [
    {
     "name": "stdout",
     "output_type": "stream",
     "text": [
      "A\n",
      "B\n",
      "C\n",
      "D\n"
     ]
    }
   ],
   "source": [
    "linked_list_inst.print_linked_list()"
   ]
  },
  {
   "cell_type": "code",
   "execution_count": 48,
   "metadata": {},
   "outputs": [
    {
     "data": {
      "text/plain": [
       "True"
      ]
     },
     "execution_count": 48,
     "metadata": {},
     "output_type": "execute_result"
    }
   ],
   "source": [
    "linked_list_inst.prepend_node(1)"
   ]
  },
  {
   "cell_type": "code",
   "execution_count": 49,
   "metadata": {},
   "outputs": [
    {
     "name": "stdout",
     "output_type": "stream",
     "text": [
      "1\n",
      "A\n",
      "B\n",
      "C\n",
      "D\n"
     ]
    }
   ],
   "source": [
    "linked_list_inst.print_linked_list()"
   ]
  },
  {
   "cell_type": "code",
   "execution_count": 50,
   "metadata": {},
   "outputs": [
    {
     "data": {
      "text/plain": [
       "True"
      ]
     },
     "execution_count": 50,
     "metadata": {},
     "output_type": "execute_result"
    }
   ],
   "source": [
    "linked_list_inst.delete_node_at_last()"
   ]
  },
  {
   "cell_type": "code",
   "execution_count": 51,
   "metadata": {},
   "outputs": [
    {
     "name": "stdout",
     "output_type": "stream",
     "text": [
      "Linked List is empty\n"
     ]
    },
    {
     "data": {
      "text/plain": [
       "False"
      ]
     },
     "execution_count": 51,
     "metadata": {},
     "output_type": "execute_result"
    }
   ],
   "source": [
    "linked_list_inst.print_linked_list()"
   ]
  }
 ],
 "metadata": {
  "kernelspec": {
   "display_name": "Python 3",
   "language": "python",
   "name": "python3"
  },
  "language_info": {
   "codemirror_mode": {
    "name": "ipython",
    "version": 3
   },
   "file_extension": ".py",
   "mimetype": "text/x-python",
   "name": "python",
   "nbconvert_exporter": "python",
   "pygments_lexer": "ipython3",
   "version": "3.6.8"
  }
 },
 "nbformat": 4,
 "nbformat_minor": 2
}
