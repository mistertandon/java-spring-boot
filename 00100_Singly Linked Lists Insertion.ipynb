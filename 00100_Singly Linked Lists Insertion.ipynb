{
 "cells": [
  {
   "cell_type": "code",
   "execution_count": 104,
   "metadata": {},
   "outputs": [],
   "source": [
    "from IPython.core.interactiveshell import InteractiveShell\n",
    "InteractiveShell.ast_node_interactivity = 'all'"
   ]
  },
  {
   "cell_type": "code",
   "execution_count": 105,
   "metadata": {},
   "outputs": [],
   "source": [
    "class Node():\n",
    "    \n",
    "    def __init__(self, data):\n",
    "        self.data = data\n",
    "        self.next = None"
   ]
  },
  {
   "cell_type": "code",
   "execution_count": 106,
   "metadata": {},
   "outputs": [],
   "source": [
    "class LinkedList():\n",
    "    \n",
    "    def __init__(self):\n",
    "        self.head = None\n",
    "        self.length = 0\n",
    "\n",
    "\n",
    "    def print_linked_list(self):\n",
    "        \n",
    "        current_node = self.head\n",
    "        \n",
    "        while current_node:\n",
    "            print(current_node.data)\n",
    "            current_node = current_node.next\n",
    "\n",
    "\n",
    "    def append(self, data):\n",
    "\n",
    "        node_inst = Node(data)\n",
    "\n",
    "        if self.head is None:\n",
    "            self.head = node_inst\n",
    "        else:\n",
    "            prev_node = self.head\n",
    "            while prev_node.next is not None:\n",
    "                prev_node = prev_node.next\n",
    "            prev_node.next = node_inst\n",
    "\n",
    "\n",
    "    def get_linked_list_length(self):\n",
    "        \n",
    "        if self.head is None:\n",
    "            self.length = 0\n",
    "\n",
    "        linked_list_length = 0\n",
    "        current_node = self.head\n",
    "        while current_node is not None:\n",
    "            linked_list_length += 1\n",
    "            current_node = current_node.next\n",
    "\n",
    "        self.length = linked_list_length\n",
    "        self.print_linked_list_length()\n",
    "\n",
    "\n",
    "    def print_linked_list_length(self):\n",
    "        \n",
    "        print('Linked List Length : {}'.format(self.length))\n",
    "        linked_list_length = 0\n",
    "        current_node = self.head\n",
    "        while current_node is not None:\n",
    "            linked_list_length += linked_list_length\n",
    "            current_node = current_node.next\n",
    "\n",
    "        return linked_list_length    \n",
    "\n",
    "\n",
    "    def print_at_nth_place_linked_list(self, nth_place):\n",
    "        \n",
    "        if nth_place < 0:\n",
    "            return -1\n",
    "        \n",
    "        current_node = self.head\n",
    "\n",
    "        while current_node:\n",
    "            print(current_node.data)\n",
    "            current_node = current_node.next"
   ]
  },
  {
   "cell_type": "code",
   "execution_count": 107,
   "metadata": {},
   "outputs": [
    {
     "data": {
      "text/plain": [
       "<__main__.LinkedList at 0x133a7c83a90>"
      ]
     },
     "execution_count": 107,
     "metadata": {},
     "output_type": "execute_result"
    }
   ],
   "source": [
    "linked_list_inst = LinkedList()\n",
    "linked_list_inst"
   ]
  },
  {
   "cell_type": "code",
   "execution_count": 108,
   "metadata": {},
   "outputs": [
    {
     "name": "stdout",
     "output_type": "stream",
     "text": [
      "Linked List Length : 3\n"
     ]
    }
   ],
   "source": [
    "linked_list_inst.append(\"A\")\n",
    "linked_list_inst.append(\"B\")\n",
    "linked_list_inst.append(\"C\")\n",
    "#linked_list_inst.append(\"D\")\n",
    "linked_list_inst.get_linked_list_length()\n",
    "#linked_list_inst.print_linked_list()"
   ]
  }
 ],
 "metadata": {
  "kernelspec": {
   "display_name": "Python 3",
   "language": "python",
   "name": "python3"
  },
  "language_info": {
   "codemirror_mode": {
    "name": "ipython",
    "version": 3
   },
   "file_extension": ".py",
   "mimetype": "text/x-python",
   "name": "python",
   "nbconvert_exporter": "python",
   "pygments_lexer": "ipython3",
   "version": "3.6.8"
  }
 },
 "nbformat": 4,
 "nbformat_minor": 2
}
