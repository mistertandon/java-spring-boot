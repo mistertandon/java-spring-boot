{
 "cells": [
  {
   "cell_type": "code",
   "execution_count": 31,
   "metadata": {},
   "outputs": [],
   "source": [
    "import import_ipynb\n",
    "from a00100_singly_linked_lists import Node, LinkedList"
   ]
  },
  {
   "cell_type": "code",
   "execution_count": 32,
   "metadata": {},
   "outputs": [],
   "source": [
    "class LinkedListAddOperation(LinkedList):\n",
    "\n",
    "    def __init__(self):\n",
    "        LinkedList.__init__(self)\n",
    "\n",
    "\n",
    "    def prepend_node(self, data):\n",
    "        node_inst = Node(data)\n",
    "        \n",
    "        node_inst.next = self.head\n",
    "        self.head = node_inst\n",
    "        \n",
    "        return True\n",
    "        \n",
    "\n",
    "    def insert_node_at_nth_place(self, nth_place, data):\n",
    "        \n",
    "        if nth_place < 0:\n",
    "            self.print_invalid_node_position_message(nth_place)\n",
    "            return False\n",
    "        \n",
    "        self.calculate_linked_list_length()\n",
    "        if self.length < nth_place:\n",
    "            self.print_invalid_node_position_message(nth_place)\n",
    "            return False\n",
    "        \n",
    "        current_node = self.head\n",
    "        count = 0\n",
    "        while current_node.next:\n",
    "            count += 1\n",
    "            if count == nth_place:\n",
    "                break\n",
    "            else:\n",
    "                current_node = current_node.next\n",
    "        \n",
    "        new_node = Node(data)\n",
    "        new_node.next = current_node.next\n",
    "        current_node.next = new_node\n",
    "        \n",
    "        return True"
   ]
  },
  {
   "cell_type": "code",
   "execution_count": 33,
   "metadata": {},
   "outputs": [],
   "source": [
    "linked_list_inst = LinkedListAddOperation()"
   ]
  },
  {
   "cell_type": "code",
   "execution_count": 34,
   "metadata": {},
   "outputs": [],
   "source": [
    "linked_list_inst.append_node(\"A\")\n",
    "linked_list_inst.append_node(\"B\")\n",
    "linked_list_inst.append_node(\"D\")\n",
    "linked_list_inst.append_node(\"E\")"
   ]
  },
  {
   "cell_type": "code",
   "execution_count": 35,
   "metadata": {},
   "outputs": [
    {
     "name": "stdout",
     "output_type": "stream",
     "text": [
      "A\n",
      "B\n",
      "D\n",
      "E\n"
     ]
    }
   ],
   "source": [
    "linked_list_inst.print_linked_list()"
   ]
  },
  {
   "cell_type": "code",
   "execution_count": 36,
   "metadata": {},
   "outputs": [
    {
     "data": {
      "text/plain": [
       "True"
      ]
     },
     "execution_count": 36,
     "metadata": {},
     "output_type": "execute_result"
    }
   ],
   "source": [
    "linked_list_inst.prepend_node(\"A\")"
   ]
  },
  {
   "cell_type": "code",
   "execution_count": 37,
   "metadata": {},
   "outputs": [
    {
     "name": "stdout",
     "output_type": "stream",
     "text": [
      "A\n",
      "A\n",
      "B\n",
      "D\n",
      "E\n"
     ]
    }
   ],
   "source": [
    "linked_list_inst.print_linked_list()"
   ]
  }
 ],
 "metadata": {
  "kernelspec": {
   "display_name": "Python 3",
   "language": "python",
   "name": "python3"
  },
  "language_info": {
   "codemirror_mode": {
    "name": "ipython",
    "version": 3
   },
   "file_extension": ".py",
   "mimetype": "text/x-python",
   "name": "python",
   "nbconvert_exporter": "python",
   "pygments_lexer": "ipython3",
   "version": "3.6.8"
  }
 },
 "nbformat": 4,
 "nbformat_minor": 2
}
