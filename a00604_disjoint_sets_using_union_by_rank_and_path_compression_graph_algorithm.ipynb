{
 "cells": [
  {
   "cell_type": "code",
   "execution_count": 52,
   "metadata": {},
   "outputs": [],
   "source": [
    "import pixiedust"
   ]
  },
  {
   "cell_type": "code",
   "execution_count": 53,
   "metadata": {},
   "outputs": [],
   "source": [
    "from IPython.core.interactiveshell import InteractiveShell\n",
    "InteractiveShell.ast_node_interactivity = 'none'"
   ]
  },
  {
   "cell_type": "code",
   "execution_count": 54,
   "metadata": {},
   "outputs": [],
   "source": [
    "import import_ipynb\n",
    "from a000100_helper import print_object, print_variable_type"
   ]
  },
  {
   "cell_type": "code",
   "execution_count": 55,
   "metadata": {},
   "outputs": [],
   "source": [
    "class Vertex:\n",
    "    def __init__(self, name):\n",
    "        self.name = name\n",
    "        self.parent = name\n",
    "        self.rank = 0\n",
    "\n",
    "\n",
    "    def update_vertex_parent(self, parent_name):\n",
    "        self.parent = parent_name\n",
    "        \n",
    "        return True\n",
    "    \n",
    "    def update_vertex_rank(self):\n",
    "        self.rank += 1\n",
    "        \n",
    "        return True    "
   ]
  },
  {
   "cell_type": "code",
   "execution_count": 56,
   "metadata": {},
   "outputs": [],
   "source": [
    "class Disjoint(object):\n",
    "    \n",
    "    def __init__(self):\n",
    "        self.vertices = list()\n",
    "        self.vertex_int_mapping = {}\n",
    "    \n",
    "    def update_vertex_int_mapping(self):\n",
    "        for index, vertex in enumerate(self.vertices):\n",
    "            self.vertex_int_mapping[vertex.name] = index\n",
    "        \n",
    "        return True\n",
    "\n",
    "    \n",
    "    def update_vertex_parent_req(self, parent_vertex, child_vertex):\n",
    "        child_vertex.update_vertex_parent(parent_vertex.name)\n",
    "\n",
    "        return True\n",
    "\n",
    "\n",
    "    def add_vertex(self, vertex):\n",
    "        if isinstance(vertex, Vertex) and (vertex.name not in self.vertex_int_mapping):\n",
    "            self.vertices.append(vertex)\n",
    "            self.update_vertex_int_mapping()\n",
    "\n",
    "            print('Vertex %s has been added successfully'%(vertex.name))\n",
    "            \n",
    "            return True\n",
    "        else:\n",
    "            return False\n",
    "\n",
    "\n",
    "    def get_vertex(self, vertex_name):\n",
    "        if vertex.name not in vertex_int_mapping:\n",
    "            return None\n",
    "        else:\n",
    "            index = self.vertex_int_mapping[vertex.name]\n",
    "            vertex_inst = self.vertices[index]\n",
    "        \n",
    "        return True\n",
    "\n",
    "\n",
    "    def display_vertices(self):\n",
    "        print_object(self.vertices)\n",
    "        \n",
    "        return True\n",
    "\n",
    "\n",
    "    def display_vertices_int_mapping(self):\n",
    "        print_object(self.vertex_int_mapping)\n",
    "        \n",
    "        return True\n",
    "\n",
    "\n",
    "    def union(self, vertex_a, vertex_b):\n",
    "        \n",
    "        vertex_a_temp = self.vertices[self.vertex_int_mapping[vertex_a]]\n",
    "        vertex_b_temp = self.vertices[self.vertex_int_mapping[vertex_b]]\n",
    "        \n",
    "        while vertex_a_temp.name != vertex_a_temp.parent:\n",
    "            vertex_a_temp = self.vertices[self.vertex_int_mapping[vertex_a_temp.parent]]\n",
    "\n",
    "        while vertex_b_temp.name != vertex_b_temp.parent:\n",
    "            vertex_b_temp = self.vertices[self.vertex_int_mapping[vertex_b_temp.parent]]\n",
    "\n",
    "        if vertex_a_temp.rank == vertex_b_temp.rank:\n",
    "            self.update_vertex_parent_req(vertex_a_temp, vertex_b_temp)\n",
    "            vertex_a_temp.update_vertex_rank()\n",
    "            \n",
    "        if vertex_a_temp.rank > vertex_b_temp.rank:\n",
    "            self.update_vertex_parent_req(vertex_a_temp, vertex_b_temp)\n",
    "            \n",
    "        if vertex_a_temp.rank < vertex_b_temp.rank:\n",
    "            self.update_vertex_parent_req(vertex_b_temp, vertex_a_temp)\n",
    "            \n",
    "        for vertex in self.vertices:\n",
    "            vertex_info = vertex\n",
    "            while vertex_info.name != vertex_info.parent:\n",
    "                vertex_info = self.vertices[self.vertex_int_mapping[vertex_info.parent]]\n",
    "            \n",
    "            vertex.update_vertex_parent(vertex_info.name)"
   ]
  },
  {
   "cell_type": "code",
   "execution_count": 57,
   "metadata": {
    "pixiedust": {
     "displayParams": {}
    }
   },
   "outputs": [
    {
     "name": "stdout",
     "output_type": "stream",
     "text": [
      "Vertex a has been added successfully\n",
      "Vertex b has been added successfully\n",
      "Vertex c has been added successfully\n",
      "Vertex d has been added successfully\n",
      "Vertex e has been added successfully\n",
      "Vertex f has been added successfully\n",
      "Vertex g has been added successfully\n"
     ]
    }
   ],
   "source": [
    "# %%pixie_debugger\n",
    "disjoint_inst = Disjoint()\n",
    "for index, unicode_code_point in enumerate(range(ord('a'), ord('h'))):\n",
    "    vertex_inst = None\n",
    "\n",
    "    vertex_inst = Vertex(chr(unicode_code_point))\n",
    "    disjoint_inst.add_vertex(vertex_inst)"
   ]
  },
  {
   "cell_type": "code",
   "execution_count": 58,
   "metadata": {},
   "outputs": [
    {
     "name": "stdout",
     "output_type": "stream",
     "text": [
      "[\n",
      "   __main__.Vertex(name = 'a', parent = 'a', rank = 0), \n",
      "   __main__.Vertex(name = 'b', parent = 'b', rank = 0), \n",
      "   __main__.Vertex(name = 'c', parent = 'c', rank = 0), \n",
      "   __main__.Vertex(name = 'd', parent = 'd', rank = 0), \n",
      "   __main__.Vertex(name = 'e', parent = 'e', rank = 0), \n",
      "   __main__.Vertex(name = 'f', parent = 'f', rank = 0), \n",
      "   __main__.Vertex(name = 'g', parent = 'g', rank = 0)\n",
      "]\n"
     ]
    }
   ],
   "source": [
    "disjoint_inst.display_vertices()"
   ]
  },
  {
   "cell_type": "code",
   "execution_count": 59,
   "metadata": {},
   "outputs": [
    {
     "name": "stdout",
     "output_type": "stream",
     "text": [
      "{'a': 0, 'b': 1, 'c': 2, 'd': 3, 'e': 4, 'f': 5, 'g': 6}\n"
     ]
    }
   ],
   "source": [
    "disjoint_inst.display_vertices_int_mapping()"
   ]
  },
  {
   "cell_type": "code",
   "execution_count": 60,
   "metadata": {},
   "outputs": [],
   "source": [
    "## We have to make sets using given sets below\n",
    "# (0, 1) (1, 2) (3, 4) (5, 6) (4, 5) (2, 6)\n",
    "sets = [('a', 'b'), ('b', 'c'), ('d', 'e'), ('f', 'g'), ('e', 'f'), ('c', 'g')]\n",
    "for vertex_i, vertex_ii in sets:\n",
    "    disjoint_inst.union(vertex_i, vertex_ii)\n",
    "    \n",
    "# disjoint_inst.path_compression()"
   ]
  },
  {
   "cell_type": "code",
   "execution_count": 61,
   "metadata": {},
   "outputs": [
    {
     "name": "stdout",
     "output_type": "stream",
     "text": [
      "[\n",
      "   __main__.Vertex(name = 'a', parent = 'd', rank = 1), \n",
      "   __main__.Vertex(name = 'b', parent = 'd', rank = 0), \n",
      "   __main__.Vertex(name = 'c', parent = 'd', rank = 0), \n",
      "   __main__.Vertex(name = 'd', parent = 'd', rank = 2), \n",
      "   __main__.Vertex(name = 'e', parent = 'd', rank = 0), \n",
      "   __main__.Vertex(name = 'f', parent = 'd', rank = 1), \n",
      "   __main__.Vertex(name = 'g', parent = 'd', rank = 0)\n",
      "]\n"
     ]
    }
   ],
   "source": [
    "# disjoint_inst.union('a', 'b')\n",
    "disjoint_inst.display_vertices()"
   ]
  },
  {
   "cell_type": "code",
   "execution_count": 62,
   "metadata": {},
   "outputs": [
    {
     "name": "stdout",
     "output_type": "stream",
     "text": [
      "[\n",
      "   __main__.Vertex(name = 'a', parent = 'd', rank = 1), \n",
      "   __main__.Vertex(name = 'b', parent = 'd', rank = 0), \n",
      "   __main__.Vertex(name = 'c', parent = 'd', rank = 0), \n",
      "   __main__.Vertex(name = 'd', parent = 'd', rank = 2), \n",
      "   __main__.Vertex(name = 'e', parent = 'd', rank = 0), \n",
      "   __main__.Vertex(name = 'f', parent = 'd', rank = 1), \n",
      "   __main__.Vertex(name = 'g', parent = 'd', rank = 0)\n",
      "]\n"
     ]
    }
   ],
   "source": [
    "# disjoint_inst.union('b', 'c')\n",
    "disjoint_inst.display_vertices()"
   ]
  }
 ],
 "metadata": {
  "kernelspec": {
   "display_name": "Python 3",
   "language": "python",
   "name": "python3"
  },
  "language_info": {
   "codemirror_mode": {
    "name": "ipython",
    "version": 3
   },
   "file_extension": ".py",
   "mimetype": "text/x-python",
   "name": "python",
   "nbconvert_exporter": "python",
   "pygments_lexer": "ipython3",
   "version": "3.6.8"
  },
  "toc": {
   "base_numbering": 1,
   "nav_menu": {},
   "number_sections": true,
   "sideBar": true,
   "skip_h1_title": false,
   "title_cell": "Table of Contents",
   "title_sidebar": "Contents",
   "toc_cell": false,
   "toc_position": {},
   "toc_section_display": true,
   "toc_window_display": false
  }
 },
 "nbformat": 4,
 "nbformat_minor": 2
}
