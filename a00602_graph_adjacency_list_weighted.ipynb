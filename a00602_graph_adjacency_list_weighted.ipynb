{
 "cells": [
  {
   "cell_type": "code",
   "execution_count": 87,
   "metadata": {},
   "outputs": [],
   "source": [
    "import pixiedust"
   ]
  },
  {
   "cell_type": "code",
   "execution_count": 88,
   "metadata": {},
   "outputs": [],
   "source": [
    "from a000100_helper import print_object, print_variable_type"
   ]
  },
  {
   "cell_type": "code",
   "execution_count": 89,
   "metadata": {},
   "outputs": [],
   "source": [
    "from IPython.core.interactiveshell import InteractiveShell\n",
    "InteractiveShell.ast_node_interactivity = 'all'"
   ]
  },
  {
   "cell_type": "code",
   "execution_count": 90,
   "metadata": {},
   "outputs": [],
   "source": [
    "class Edge(object):\n",
    "    def __init__(self, source, destination, weight):\n",
    "        self.source = source\n",
    "        self.destination = destination\n",
    "        self.weight = weight"
   ]
  },
  {
   "cell_type": "code",
   "execution_count": 91,
   "metadata": {},
   "outputs": [],
   "source": [
    "class Vertex:\n",
    "    def __init__(self, name):\n",
    "        self.name = name\n",
    "        self.neighbours = list()\n",
    "    \n",
    "    \n",
    "    def add_neighbour(self, neighbour):\n",
    "        self.neighbours.append(neighbour)\n",
    "            \n",
    "        return True\n",
    "\n",
    "    \n",
    "    def get_neighbours(self):\n",
    "        return self.neighbours\n",
    "    \n",
    "    def get_name(self):\n",
    "        return self.name    "
   ]
  },
  {
   "cell_type": "code",
   "execution_count": 92,
   "metadata": {},
   "outputs": [],
   "source": [
    "InteractiveShell.ast_node_interactivity = 'none'"
   ]
  },
  {
   "cell_type": "code",
   "execution_count": 93,
   "metadata": {},
   "outputs": [],
   "source": [
    "vertex_a = Vertex('DEMO_VERTEX')\n",
    "vertex_a.add_neighbour('C')\n",
    "vertex_a.add_neighbour('E')\n",
    "vertex_a.add_neighbour('B')\n",
    "vertex_a.add_neighbour('B')"
   ]
  },
  {
   "cell_type": "code",
   "execution_count": 94,
   "metadata": {},
   "outputs": [
    {
     "name": "stdout",
     "output_type": "stream",
     "text": [
      "__main__.Vertex(name = 'DEMO_VERTEX', neighbours = ['C', 'E', 'B', 'B'])\n"
     ]
    }
   ],
   "source": [
    "print_object(vertex_a)\n",
    "# print_object(vertex_a, indent=' ', width=40, seq_length=10,\n",
    "#               show_protected=True, show_static=True, show_properties=True, show_address=False)"
   ]
  },
  {
   "cell_type": "code",
   "execution_count": 95,
   "metadata": {},
   "outputs": [],
   "source": [
    "class Graph:\n",
    "    vertices = {}\n",
    "\n",
    "    def add_vertex(self, vertex):\n",
    "        if( isinstance(vertex, Vertex) and (vertex.name not in self.vertices)):\n",
    "            self.vertices[vertex.name] = vertex\n",
    "            print('Vertex %s has been added to graph'%(vertex.name))\n",
    "            \n",
    "            return True\n",
    "        else:\n",
    "            print('Vertex %s already exists in graph'%(vertex.name))\n",
    "            \n",
    "            return False\n",
    "\n",
    "\n",
    "    def add_edge(self, source, destination, weight):\n",
    "\n",
    "        if source in self.vertices and destination in self.vertices:\n",
    "\n",
    "            for key, value in self.vertices.items():\n",
    "                if key == source:\n",
    "                    value.add_neighbour(Edge(source, destination, weight))\n",
    "\n",
    "            return True\n",
    "        else:\n",
    "            return False\n",
    "\n",
    "\n",
    "    def is_vertex_exist(self, vertex):\n",
    "        \n",
    "        if vertex not in self.vertices:\n",
    "            print('Vertex \\'%s\\' doesn\\'t exists in graph'%(vertex))\n",
    "            return False\n",
    "        else:\n",
    "            print('Vertex \\'%s\\' exists in graph'%(vertex))\n",
    "            return True\n",
    "    \n",
    "\n",
    "    def get_vertex_neighbours(self, vertex):\n",
    "        \n",
    "        vertex_obj = self.vertices.get(vertex)\n",
    "        \n",
    "        return vertex_obj.get_neighbours()"
   ]
  },
  {
   "cell_type": "code",
   "execution_count": 96,
   "metadata": {},
   "outputs": [],
   "source": [
    "graph_inst = Graph()"
   ]
  },
  {
   "cell_type": "code",
   "execution_count": 97,
   "metadata": {},
   "outputs": [],
   "source": [
    "InteractiveShell.ast_node_interactivity = 'none'"
   ]
  },
  {
   "cell_type": "code",
   "execution_count": 98,
   "metadata": {},
   "outputs": [
    {
     "name": "stdout",
     "output_type": "stream",
     "text": [
      "Vertex a has been added to graph\n",
      "Vertex b has been added to graph\n",
      "Vertex c has been added to graph\n",
      "Vertex d has been added to graph\n",
      "Vertex e has been added to graph\n",
      "Vertex f has been added to graph\n",
      "Vertex g has been added to graph\n",
      "Vertex h has been added to graph\n",
      "Vertex i has been added to graph\n",
      "Vertex j has been added to graph\n"
     ]
    }
   ],
   "source": [
    "for vertex_name in range(ord('a'), ord('k')):\n",
    "    graph_inst.add_vertex(Vertex(chr(vertex_name)))"
   ]
  },
  {
   "cell_type": "code",
   "execution_count": 99,
   "metadata": {},
   "outputs": [],
   "source": [
    "edges = [('a','b', '1'), ('a', 'c', '2'), ('a', 'd', '3'),\n",
    "         ('b','c', '4'), ('b', 'e', '5'),\n",
    "         ('c', 'd', '6'), ('c', 'e', '7'),\n",
    "         ('d', 'e', '8'),\n",
    "         ('e', 'f', '9'),\n",
    "         ('e', 'g', '10'),('e', 'h', '11'),\n",
    "         ('f', 'g', '12'), ('f', 'i', '13'),\n",
    "         ('g', 'h', '15'), ('g', 'i', '16'), ('g', 'j', '17'),\n",
    "         ('h', 'j', '18')\n",
    "        ]"
   ]
  },
  {
   "cell_type": "code",
   "execution_count": 100,
   "metadata": {},
   "outputs": [],
   "source": [
    "for source, destination, weight in edges:\n",
    "    graph_inst.add_edge(source, destination, weight)"
   ]
  },
  {
   "cell_type": "code",
   "execution_count": 101,
   "metadata": {},
   "outputs": [
    {
     "name": "stdout",
     "output_type": "stream",
     "text": [
      "__main__.Graph(\n",
      "   vertices = {\n",
      "         'a': __main__.Vertex(\n",
      "               name = 'a', \n",
      "               neighbours = [\n",
      "                     __main__.Edge(destination = 'b', source = 'a', weight = '1'), \n",
      "                     __main__.Edge(destination = 'c', source = 'a', weight = '2'), \n",
      "                     __main__.Edge(destination = 'd', source = 'a', weight = '3')\n",
      "                  ]\n",
      "            ), \n",
      "         'b': __main__.Vertex(\n",
      "               name = 'b', \n",
      "               neighbours = [\n",
      "                     __main__.Edge(destination = 'c', source = 'b', weight = '4'), \n",
      "                     __main__.Edge(destination = 'e', source = 'b', weight = '5')\n",
      "                  ]\n",
      "            ), \n",
      "         'c': __main__.Vertex(\n",
      "               name = 'c', \n",
      "               neighbours = [\n",
      "                     __main__.Edge(destination = 'd', source = 'c', weight = '6'), \n",
      "                     __main__.Edge(destination = 'e', source = 'c', weight = '7')\n",
      "                  ]\n",
      "            ), \n",
      "         'd': __main__.Vertex(\n",
      "               name = 'd', \n",
      "               neighbours = [__main__.Edge(destination = 'e', source = 'd', weight = '8')]\n",
      "            ), \n",
      "         'e': __main__.Vertex(\n",
      "               name = 'e', \n",
      "               neighbours = [\n",
      "                     __main__.Edge(destination = 'f', source = 'e', weight = '9'), \n",
      "                     __main__.Edge(\n",
      "                        destination = 'g', \n",
      "                        source = 'e', \n",
      "                        weight = '10'\n",
      "                     ), \n",
      "                     __main__.Edge(\n",
      "                        destination = 'h', \n",
      "                        source = 'e', \n",
      "                        weight = '11'\n",
      "                     )\n",
      "                  ]\n",
      "            ), \n",
      "         'f': __main__.Vertex(\n",
      "               name = 'f', \n",
      "               neighbours = [\n",
      "                     __main__.Edge(\n",
      "                        destination = 'g', \n",
      "                        source = 'f', \n",
      "                        weight = '12'\n",
      "                     ), \n",
      "                     __main__.Edge(\n",
      "                        destination = 'i', \n",
      "                        source = 'f', \n",
      "                        weight = '13'\n",
      "                     )\n",
      "                  ]\n",
      "            ), \n",
      "         'g': __main__.Vertex(\n",
      "               name = 'g', \n",
      "               neighbours = [\n",
      "                     __main__.Edge(\n",
      "                        destination = 'h', \n",
      "                        source = 'g', \n",
      "                        weight = '15'\n",
      "                     ), \n",
      "                     __main__.Edge(\n",
      "                        destination = 'i', \n",
      "                        source = 'g', \n",
      "                        weight = '16'\n",
      "                     ), \n",
      "                     __main__.Edge(\n",
      "                        destination = 'j', \n",
      "                        source = 'g', \n",
      "                        weight = '17'\n",
      "                     )\n",
      "                  ]\n",
      "            ), \n",
      "         'h': __main__.Vertex(\n",
      "               name = 'h', \n",
      "               neighbours = [\n",
      "                     __main__.Edge(\n",
      "                        destination = 'j', \n",
      "                        source = 'h', \n",
      "                        weight = '18'\n",
      "                     )\n",
      "                  ]\n",
      "            ), \n",
      "         'i': __main__.Vertex(name = 'i', neighbours = []), \n",
      "         'j': __main__.Vertex(name = 'j', neighbours = [])\n",
      "      }\n",
      ")\n"
     ]
    }
   ],
   "source": [
    "print_object(graph_inst)"
   ]
  }
 ],
 "metadata": {
  "kernelspec": {
   "display_name": "Python 3",
   "language": "python",
   "name": "python3"
  },
  "language_info": {
   "codemirror_mode": {
    "name": "ipython",
    "version": 3
   },
   "file_extension": ".py",
   "mimetype": "text/x-python",
   "name": "python",
   "nbconvert_exporter": "python",
   "pygments_lexer": "ipython3",
   "version": "3.6.8"
  },
  "toc": {
   "base_numbering": 1,
   "nav_menu": {},
   "number_sections": true,
   "sideBar": true,
   "skip_h1_title": false,
   "title_cell": "Table of Contents",
   "title_sidebar": "Contents",
   "toc_cell": false,
   "toc_position": {},
   "toc_section_display": true,
   "toc_window_display": false
  }
 },
 "nbformat": 4,
 "nbformat_minor": 2
}
