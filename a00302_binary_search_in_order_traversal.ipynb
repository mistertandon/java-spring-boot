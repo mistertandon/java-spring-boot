{
 "cells": [
  {
   "cell_type": "code",
   "execution_count": 54,
   "metadata": {},
   "outputs": [],
   "source": [
    "from IPython.core.interactiveshell import InteractiveShell\n",
    "InteractiveShell.ast_node_interactivity = 'none'"
   ]
  },
  {
   "cell_type": "code",
   "execution_count": 55,
   "metadata": {},
   "outputs": [],
   "source": [
    "from a000100_helper import print_object, print_variable_type"
   ]
  },
  {
   "cell_type": "code",
   "execution_count": 56,
   "metadata": {},
   "outputs": [],
   "source": [
    "import import_ipynb\n",
    "from a00300_binary_search_tree import BST, Node"
   ]
  },
  {
   "cell_type": "code",
   "execution_count": 57,
   "metadata": {},
   "outputs": [],
   "source": [
    "class InOrderTraversal(BST):\n",
    "    \n",
    "    def __init__(self):\n",
    "        super(InOrderTraversal, self).__init__()\n",
    "        self.traversedNodePath = list()\n",
    "\n",
    "\n",
    "    def in_order_traversal(self, parent_node):\n",
    "        \n",
    "        if parent_node is not None:\n",
    "            \n",
    "            self.in_order_traversal(parent_node.left)\n",
    "            self.traversedNodePath.append(parent_node.data)\n",
    "            self.in_order_traversal(parent_node.right)\n",
    "\n",
    "        return True\n",
    "\n",
    "\n",
    "    def start_traversing(self):\n",
    "\n",
    "        if self.root is None:\n",
    "            print('Couldn\\'t traversed as Tree is empty')\n",
    "            return False\n",
    "        else:\n",
    "            self.in_order_traversal(self.root)\n",
    "            \n",
    "    def display_pre_order_traversed_path(self):\n",
    "        print_object(self.traversedNodePath)"
   ]
  },
  {
   "cell_type": "code",
   "execution_count": 58,
   "metadata": {},
   "outputs": [],
   "source": [
    "bst_inst_b = InOrderTraversal()\n",
    "bst_inst_b.insert(500)\n",
    "\n",
    "bst_inst_b.insert(250)\n",
    "bst_inst_b.insert(125)\n",
    "bst_inst_b.insert(375)\n",
    "bst_inst_b.insert(62)\n",
    "bst_inst_b.insert(187)\n",
    "bst_inst_b.insert(437)\n",
    "bst_inst_b.insert(313)\n",
    "\n",
    "bst_inst_b.insert(750)\n",
    "bst_inst_b.insert(625)\n",
    "bst_inst_b.insert(875)\n",
    "bst_inst_b.insert(563)\n",
    "bst_inst_b.insert(687)\n",
    "bst_inst_b.insert(813)\n",
    "bst_inst_b.insert(937)\n",
    "\n",
    "\n"
   ]
  },
  {
   "cell_type": "code",
   "execution_count": 59,
   "metadata": {},
   "outputs": [],
   "source": [
    "bst_inst_b.start_traversing()"
   ]
  },
  {
   "cell_type": "code",
   "execution_count": 60,
   "metadata": {},
   "outputs": [
    {
     "name": "stdout",
     "output_type": "stream",
     "text": [
      "[\n",
      "   62, \n",
      "   125, \n",
      "   187, \n",
      "   250, \n",
      "   313, \n",
      "   375, \n",
      "   437, \n",
      "   500, \n",
      "   563, \n",
      "   625, \n",
      "   687, \n",
      "   750, \n",
      "   813, \n",
      "   875, \n",
      "   937\n",
      "]\n"
     ]
    }
   ],
   "source": [
    "bst_inst_b.display_pre_order_traversed_path()"
   ]
  },
  {
   "cell_type": "code",
   "execution_count": 61,
   "metadata": {},
   "outputs": [
    {
     "name": "stdout",
     "output_type": "stream",
     "text": [
      "__main__.InOrderTraversal(\n",
      "   root = a00300_binary_search_tree.Node(\n",
      "         data = 500, \n",
      "         left = a00300_binary_search_tree.Node(\n",
      "               data = 250, \n",
      "               left = a00300_binary_search_tree.Node(\n",
      "                     data = 125, \n",
      "                     left = a00300_binary_search_tree.Node(\n",
      "                        data = 62,    left = None,    right = None), \n",
      "                     right = a00300_binary_search_tree.Node(\n",
      "                        data = 187,    left = None,    right = None)\n",
      "                  ), \n",
      "               right = a00300_binary_search_tree.Node(\n",
      "                     data = 375, \n",
      "                     left = a00300_binary_search_tree.Node(\n",
      "                        data = 313,    left = None,    right = None), \n",
      "                     right = a00300_binary_search_tree.Node(\n",
      "                        data = 437,    left = None,    right = None)\n",
      "                  )\n",
      "            ), \n",
      "         right = a00300_binary_search_tree.Node(\n",
      "               data = 750, \n",
      "               left = a00300_binary_search_tree.Node(\n",
      "                     data = 625, \n",
      "                     left = a00300_binary_search_tree.Node(\n",
      "                        data = 563,    left = None,    right = None), \n",
      "                     right = a00300_binary_search_tree.Node(\n",
      "                        data = 687,    left = None,    right = None)\n",
      "                  ), \n",
      "               right = a00300_binary_search_tree.Node(\n",
      "                     data = 875, \n",
      "                     left = a00300_binary_search_tree.Node(\n",
      "                        data = 813,    left = None,    right = None), \n",
      "                     right = a00300_binary_search_tree.Node(\n",
      "                        data = 937,    left = None,    right = None)\n",
      "                  )\n",
      "            )\n",
      "      ), \n",
      "   traversedNodePath = [\n",
      "         62, \n",
      "         125, \n",
      "         187, \n",
      "         250, \n",
      "         313, \n",
      "         375, \n",
      "         437, \n",
      "         500, \n",
      "         563, \n",
      "         625, \n",
      "         687, \n",
      "         750, \n",
      "         813, \n",
      "         875, \n",
      "         937\n",
      "      ]\n",
      ")\n"
     ]
    }
   ],
   "source": [
    "print_object(bst_inst_b, depth=5)"
   ]
  }
 ],
 "metadata": {
  "kernelspec": {
   "display_name": "Python 3",
   "language": "python",
   "name": "python3"
  },
  "language_info": {
   "codemirror_mode": {
    "name": "ipython",
    "version": 3
   },
   "file_extension": ".py",
   "mimetype": "text/x-python",
   "name": "python",
   "nbconvert_exporter": "python",
   "pygments_lexer": "ipython3",
   "version": "3.6.8"
  },
  "toc": {
   "base_numbering": 1,
   "nav_menu": {},
   "number_sections": true,
   "sideBar": true,
   "skip_h1_title": false,
   "title_cell": "Table of Contents",
   "title_sidebar": "Contents",
   "toc_cell": false,
   "toc_position": {},
   "toc_section_display": true,
   "toc_window_display": false
  }
 },
 "nbformat": 4,
 "nbformat_minor": 2
}
