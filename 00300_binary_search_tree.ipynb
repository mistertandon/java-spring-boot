{
 "cells": [
  {
   "cell_type": "code",
   "execution_count": 18,
   "metadata": {},
   "outputs": [],
   "source": [
    "from objbrowser import browse"
   ]
  },
  {
   "cell_type": "code",
   "execution_count": 19,
   "metadata": {},
   "outputs": [],
   "source": [
    "class Node():\n",
    "    \n",
    "    def __init__(self, data):\n",
    "        self.data = data\n",
    "        self.left = None\n",
    "        self.right = None"
   ]
  },
  {
   "cell_type": "code",
   "execution_count": 20,
   "metadata": {},
   "outputs": [],
   "source": [
    "class BST():\n",
    "    \n",
    "    def __init__(self):\n",
    "        self.root = None\n",
    "\n",
    "\n",
    "    def find_parent_node_to_insert(self, root_node, data):\n",
    "        \n",
    "        current_node = root_node\n",
    "        is_left_child = False\n",
    "        is_right_child = False\n",
    "        while current_node is not None:\n",
    "            prev_parent = current_node\n",
    "            \n",
    "            if data <= current_node.data:\n",
    "                current_node = current_node.left\n",
    "                is_left_child = True\n",
    "                is_right_child = False\n",
    "            elif data > current_node.data:\n",
    "                current_node = current_node.right\n",
    "                is_left_child = False\n",
    "                is_right_child = True                \n",
    "        \n",
    "        if is_left_child:\n",
    "            prev_parent.left = Node(data)\n",
    "        else:\n",
    "            prev_parent.right = Node(data)\n",
    "        \n",
    "        return True\n",
    "\n",
    "\n",
    "    def insert(self, data):\n",
    "        \n",
    "        if self.root is None:\n",
    "            self.root = Node(data)\n",
    "        else:\n",
    "            node = self.find_parent_node_to_insert(self.root, data)\n",
    "        \n",
    "        return True\n",
    "            "
   ]
  },
  {
   "cell_type": "code",
   "execution_count": 21,
   "metadata": {},
   "outputs": [
    {
     "data": {
      "text/plain": [
       "True"
      ]
     },
     "execution_count": 21,
     "metadata": {},
     "output_type": "execute_result"
    }
   ],
   "source": [
    "bst_inst = BST()\n",
    "bst_inst.insert(20)\n",
    "bst_inst.insert(15)\n",
    "bst_inst.insert(25)\n",
    "bst_inst.insert(17)"
   ]
  },
  {
   "cell_type": "code",
   "execution_count": null,
   "metadata": {},
   "outputs": [],
   "source": [
    "browse(bst_inst)"
   ]
  }
 ],
 "metadata": {
  "kernelspec": {
   "display_name": "Python 3",
   "language": "python",
   "name": "python3"
  },
  "language_info": {
   "codemirror_mode": {
    "name": "ipython",
    "version": 3
   },
   "file_extension": ".py",
   "mimetype": "text/x-python",
   "name": "python",
   "nbconvert_exporter": "python",
   "pygments_lexer": "ipython3",
   "version": "3.6.8"
  }
 },
 "nbformat": 4,
 "nbformat_minor": 2
}
