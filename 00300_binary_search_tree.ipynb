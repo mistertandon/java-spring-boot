{
 "cells": [
  {
   "cell_type": "code",
   "execution_count": null,
   "metadata": {},
   "outputs": [
    {
     "name": "stdout",
     "output_type": "stream",
     "text": [
      "Pixiedust database opened successfully\n"
     ]
    },
    {
     "data": {
      "text/html": [
       "\n",
       "        <div style=\"margin:10px\">\n",
       "            <a href=\"https://github.com/ibm-watson-data-lab/pixiedust\" target=\"_new\">\n",
       "                <img src=\"https://github.com/ibm-watson-data-lab/pixiedust/raw/master/docs/_static/pd_icon32.png\" style=\"float:left;margin-right:10px\"/>\n",
       "            </a>\n",
       "            <span>Pixiedust version 1.1.17</span>\n",
       "        </div>\n",
       "        "
      ],
      "text/plain": [
       "<IPython.core.display.HTML object>"
      ]
     },
     "metadata": {},
     "output_type": "display_data"
    }
   ],
   "source": [
    "import pixiedust\n",
    "from ppretty import ppretty"
   ]
  },
  {
   "cell_type": "code",
   "execution_count": null,
   "metadata": {},
   "outputs": [],
   "source": [
    "class Node():\n",
    "    \n",
    "    def __init__(self, data):\n",
    "        self.data = data\n",
    "        self.left = None\n",
    "        self.right = None"
   ]
  },
  {
   "cell_type": "code",
   "execution_count": null,
   "metadata": {},
   "outputs": [],
   "source": [
    "class BST():\n",
    "    \n",
    "    def __init__(self):\n",
    "        self.root = None\n",
    "\n",
    "\n",
    "    def find_parent_node_to_insert_new_node(self, root_node, data):\n",
    "        \n",
    "        current_node = root_node\n",
    "        is_left_child = False\n",
    "        is_right_child = False\n",
    "        \n",
    "        while current_node is not None:\n",
    "            prev_parent = current_node\n",
    "            \n",
    "            if data <= current_node.data:\n",
    "                current_node = current_node.left\n",
    "                is_left_child = True\n",
    "                is_right_child = False\n",
    "            elif data > current_node.data:\n",
    "                current_node = current_node.right\n",
    "                is_left_child = False\n",
    "                is_right_child = True\n",
    "                \n",
    "        return (prev_parent, is_left_child, is_right_child)\n",
    "\n",
    "\n",
    "    def insert_new_node(self, parent_node, is_left_child, is_right_child, data):\n",
    "        \n",
    "        if is_left_child:\n",
    "            parent_node.left = Node(data)\n",
    "        else:\n",
    "            parent_node.right = Node(data)\n",
    "        \n",
    "        return True\n",
    "\n",
    "\n",
    "    def insert(self, data):\n",
    "        \n",
    "        if self.root is None:\n",
    "            self.root = Node(data)\n",
    "        else:\n",
    "            parent_node, is_left_child, is_right_child = self.find_parent_node_to_insert_new_node(self.root, data)\n",
    "            self.insert_new_node(parent_node, is_left_child, is_right_child, data)\n",
    "            \n",
    "        return True"
   ]
  },
  {
   "cell_type": "code",
   "execution_count": null,
   "metadata": {},
   "outputs": [],
   "source": [
    "#%%pixie_debugger"
   ]
  },
  {
   "cell_type": "code",
   "execution_count": null,
   "metadata": {
    "pixiedust": {
     "displayParams": {}
    }
   },
   "outputs": [],
   "source": [
    "bst_inst = BST()\n",
    "bst_inst.insert(20)\n",
    "bst_inst.insert(15)\n",
    "bst_inst.insert(25)\n",
    "bst_inst.insert(17)\n",
    "bst_inst.insert(18)"
   ]
  },
  {
   "cell_type": "code",
   "execution_count": null,
   "metadata": {},
   "outputs": [],
   "source": [
    "print(ppretty(bst_inst, indent=' ', width=40, seq_length=10,\n",
    "              show_protected=True, show_static=True, show_properties=True, show_address=False))"
   ]
  }
 ],
 "metadata": {
  "kernelspec": {
   "display_name": "Python 3",
   "language": "python",
   "name": "python3"
  },
  "language_info": {
   "codemirror_mode": {
    "name": "ipython",
    "version": 3
   },
   "file_extension": ".py",
   "mimetype": "text/x-python",
   "name": "python",
   "nbconvert_exporter": "python",
   "pygments_lexer": "ipython3",
   "version": "3.6.8"
  }
 },
 "nbformat": 4,
 "nbformat_minor": 2
}
