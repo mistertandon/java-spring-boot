{
 "cells": [
  {
   "cell_type": "code",
   "execution_count": 16,
   "metadata": {},
   "outputs": [],
   "source": [
    "from objbrowser import browse\n",
    "from pprint import pprint"
   ]
  },
  {
   "cell_type": "code",
   "execution_count": 17,
   "metadata": {},
   "outputs": [],
   "source": [
    "class Node():\n",
    "    \n",
    "    def __init__(self, data):\n",
    "        self.data = data\n",
    "        self.left = None\n",
    "        self.right = None"
   ]
  },
  {
   "cell_type": "code",
   "execution_count": 18,
   "metadata": {},
   "outputs": [],
   "source": [
    "class BST():\n",
    "    \n",
    "    def __init__(self):\n",
    "        self.root = None\n",
    "\n",
    "\n",
    "    def find_parent_node_to_insert_new_node(self, root_node, data):\n",
    "        \n",
    "        current_node = root_node\n",
    "        is_left_child = False\n",
    "        is_right_child = False\n",
    "        \n",
    "        while current_node is not None:\n",
    "            prev_parent = current_node\n",
    "            \n",
    "            if data <= current_node.data:\n",
    "                current_node = current_node.left\n",
    "                is_left_child = True\n",
    "                is_right_child = False\n",
    "            elif data > current_node.data:\n",
    "                current_node = current_node.right\n",
    "                is_left_child = False\n",
    "                is_right_child = True\n",
    "                \n",
    "        return (prev_parent, is_left_child, is_right_child)\n",
    "\n",
    "\n",
    "    def insert_new_node(self, parent_node, is_left_child, is_right_child, data):\n",
    "        \n",
    "        if is_left_child:\n",
    "            parent_node.left = Node(data)\n",
    "        else:\n",
    "            parent_node.right = Node(data)\n",
    "        \n",
    "        return True\n",
    "\n",
    "\n",
    "    def insert(self, data):\n",
    "        \n",
    "        if self.root is None:\n",
    "            self.root = Node(data)\n",
    "        else:\n",
    "            parent_node, is_left_child, is_right_child = self.find_parent_node_to_insert_new_node(self.root, data)\n",
    "            self.insert_new_node(parent_node, is_left_child, is_right_child, data)\n",
    "            \n",
    "        return True            "
   ]
  },
  {
   "cell_type": "code",
   "execution_count": null,
   "metadata": {},
   "outputs": [
    {
     "data": {
      "text/plain": [
       "True"
      ]
     },
     "execution_count": 19,
     "metadata": {},
     "output_type": "execute_result"
    }
   ],
   "source": [
    "bst_inst = BST()\n",
    "bst_inst.insert(20)\n",
    "bst_inst.insert(15)\n",
    "bst_inst.insert(25)\n",
    "bst_inst.insert(17)\n",
    "bst_inst.insert(18)"
   ]
  },
  {
   "cell_type": "code",
   "execution_count": null,
   "metadata": {},
   "outputs": [],
   "source": [
    "browse(bst_inst)"
   ]
  }
 ],
 "metadata": {
  "kernelspec": {
   "display_name": "Python 3",
   "language": "python",
   "name": "python3"
  },
  "language_info": {
   "codemirror_mode": {
    "name": "ipython",
    "version": 3
   },
   "file_extension": ".py",
   "mimetype": "text/x-python",
   "name": "python",
   "nbconvert_exporter": "python",
   "pygments_lexer": "ipython3",
   "version": "3.6.8"
  }
 },
 "nbformat": 4,
 "nbformat_minor": 2
}
