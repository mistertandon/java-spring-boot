{
 "cells": [
  {
   "cell_type": "code",
   "execution_count": 9,
   "metadata": {},
   "outputs": [],
   "source": [
    "OPEN_PARENTHESES = \"(\"\n",
    "CLOSE_PARENTHESES = \")\"\n",
    "OPEN_CURLY_BRACE = \"{\"\n",
    "CLOSE_CURLY_BRACE = \"}\"\n",
    "OPEN_BRACKET = \"[\"\n",
    "CLOSE_BRACKET = \"]\""
   ]
  },
  {
   "cell_type": "code",
   "execution_count": 10,
   "metadata": {},
   "outputs": [],
   "source": [
    "def get_brackets_ref():\n",
    "    \n",
    "    get_brackets_ref = {\n",
    "        CLOSE_PARENTHESES:OPEN_PARENTHESES,\n",
    "        CLOSE_CURLY_BRACE:OPEN_CURLY_BRACE,\n",
    "        CLOSE_BRACKET:OPEN_BRACKET\n",
    "    }\n",
    "    \n",
    "    return get_brackets_ref"
   ]
  },
  {
   "cell_type": "code",
   "execution_count": 11,
   "metadata": {},
   "outputs": [],
   "source": [
    "class Container():\n",
    "    \n",
    "    def __init__(self, test_string):\n",
    "        self.brackets_ref = get_brackets_ref()\n",
    "        self.testing_stack = []\n",
    "        self.testing_stack_size = 0\n",
    "        self.test_string = test_string\n",
    "        self.is_string_balanced = True\n",
    "\n",
    "    \n",
    "    def set_test_string(self, test_string):\n",
    "\n",
    "        self.test_string = test_string\n",
    "        \n",
    "        return True\n",
    "\n",
    "\n",
    "    def push(self, element):\n",
    "        \n",
    "        self.testing_stack.append(element)\n",
    "        \n",
    "        return True\n",
    "        \n",
    "        \n",
    "    def pop(self):\n",
    "        \n",
    "        item = None\n",
    "        if self.testing_stack_size < 1:\n",
    "            self.is_string_balanced = False\n",
    "        else:\n",
    "            item = self.testing_stack[-1]\n",
    "        \n",
    "        return item\n",
    "        \n",
    "\n",
    "    def validate_string(self):\n",
    "        \n",
    "        for parentheses in self.test_string:\n",
    "            \n",
    "            if parentheses in self.brackets_ref:\n",
    "                \n",
    "                last_item = self.pop()\n",
    "                \n",
    "                if self.is_string_balanced == False:\n",
    "                    break\n",
    "                    \n",
    "                if self.brackets_ref[parentheses] != last_item:\n",
    "                    self.is_string_balanced = False\n",
    "                    break\n",
    "            else:\n",
    "                self.push(parentheses)\n",
    "                self.update_testing_stack_size()\n",
    "\n",
    "        return True\n",
    "\n",
    "\n",
    "    def update_testing_stack_size(self):\n",
    "        \n",
    "        self.testing_stack_size = len(self.testing_stack)\n",
    "        \n",
    "        return True\n",
    "    \n",
    "    def display_result(self):\n",
    "        \n",
    "        if self.is_string_balanced:\n",
    "            print(\"String does contains balanced parentheses\")\n",
    "        else:\n",
    "            print(\"String does not contains balanced parentheses\")"
   ]
  },
  {
   "cell_type": "code",
   "execution_count": 12,
   "metadata": {},
   "outputs": [
    {
     "name": "stdout",
     "output_type": "stream",
     "text": [
      "String does not contains balanced parentheses\n"
     ]
    }
   ],
   "source": [
    "container_ins = Container('[}]')\n",
    "container_ins.validate_string()\n",
    "container_ins.display_result()"
   ]
  }
 ],
 "metadata": {
  "kernelspec": {
   "display_name": "Python 3",
   "language": "python",
   "name": "python3"
  },
  "language_info": {
   "codemirror_mode": {
    "name": "ipython",
    "version": 3
   },
   "file_extension": ".py",
   "mimetype": "text/x-python",
   "name": "python",
   "nbconvert_exporter": "python",
   "pygments_lexer": "ipython3",
   "version": "3.6.8"
  }
 },
 "nbformat": 4,
 "nbformat_minor": 2
}
