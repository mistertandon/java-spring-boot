{
 "cells": [
  {
   "cell_type": "code",
   "execution_count": 5,
   "metadata": {},
   "outputs": [],
   "source": [
    "OPEN_PARENTHESES = \"(\"\n",
    "CLOSE_PARENTHESES = \")\"\n",
    "OPEN_CURLY_BRACE = \"{\"\n",
    "CLOSE_CURLY_BRACE = \"}\"\n",
    "OPEN_BRACKET = \"[\"\n",
    "CLOSE_BRACKET = \"]\""
   ]
  },
  {
   "cell_type": "code",
   "execution_count": 6,
   "metadata": {},
   "outputs": [],
   "source": [
    "def get_brackets_ref():\n",
    "    \n",
    "    get_brackets_ref = {\n",
    "        CLOSE_PARENTHESES:OPEN_PARENTHESES,\n",
    "        CLOSE_CURLY_BRACE:OPEN_CURLY_BRACE,\n",
    "        CLOSE_BRACKET:OPEN_BRACKET\n",
    "    }\n",
    "    \n",
    "    return get_brackets_ref"
   ]
  },
  {
   "cell_type": "code",
   "execution_count": 7,
   "metadata": {},
   "outputs": [],
   "source": [
    "class Container():\n",
    "    \n",
    "    def __init__(self, test_string):\n",
    "        self.brackets_ref = get_brackets_ref()\n",
    "        self.testing_stack = []\n",
    "        self.testing_stack_size = 0\n",
    "        self.test_string = test_string\n",
    "\n",
    "    \n",
    "    def set_test_string(self, tet_string):\n",
    "        self.test_string = test_string\n",
    "        \n",
    "        return True\n",
    "\n",
    "\n",
    "    def validate_string(self):\n",
    "        \n",
    "        for parentheses in self.test_string:\n",
    "            \n",
    "            if parentheses in self.brackets_ref:\n",
    "                \n",
    "\n",
    "        return True\n",
    "\n",
    "    \n",
    "    def push(self, element):\n",
    "        \n",
    "        self.testing_stack.append(element)\n",
    "        \n",
    "        return True\n",
    "        \n",
    "        \n",
    "    def pop(self):\n",
    "        \n",
    "        if self.testing_stack_size < 1\n",
    "        \n",
    "        \n",
    "        return True\n"
   ]
  },
  {
   "cell_type": "code",
   "execution_count": 8,
   "metadata": {},
   "outputs": [
    {
     "name": "stdout",
     "output_type": "stream",
     "text": [
      "[\n",
      "]\n"
     ]
    },
    {
     "data": {
      "text/plain": [
       "True"
      ]
     },
     "execution_count": 8,
     "metadata": {},
     "output_type": "execute_result"
    }
   ],
   "source": [
    "container_ins = Container('[]')\n",
    "container_ins.validate_string()"
   ]
  }
 ],
 "metadata": {
  "kernelspec": {
   "display_name": "Python 3",
   "language": "python",
   "name": "python3"
  },
  "language_info": {
   "codemirror_mode": {
    "name": "ipython",
    "version": 3
   },
   "file_extension": ".py",
   "mimetype": "text/x-python",
   "name": "python",
   "nbconvert_exporter": "python",
   "pygments_lexer": "ipython3",
   "version": "3.6.8"
  }
 },
 "nbformat": 4,
 "nbformat_minor": 2
}
