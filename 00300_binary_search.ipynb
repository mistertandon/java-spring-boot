{
 "cells": [
  {
   "cell_type": "code",
   "execution_count": 1,
   "metadata": {},
   "outputs": [],
   "source": [
    "from IPython.core.interactiveshell import InteractiveShell\n",
    "InteractiveShell.ast_node_interactivity = 'all'"
   ]
  },
  {
   "cell_type": "code",
   "execution_count": 2,
   "metadata": {},
   "outputs": [],
   "source": [
    "class BinarySearch():\n",
    "    \n",
    "    def __init__(self):\n",
    "        self.haystack_array = [12, 4, 3, 25, 98, 87, 45]\n",
    "\n",
    "    \n",
    "    def sort_array(self):\n",
    "        self.haystack_array.sort()\n",
    "\n",
    "        return True\n",
    "    \n",
    "\n",
    "    def display_sorted_array(self):\n",
    "\n",
    "        for i, elem in enumerate(self.haystack_array):\n",
    "            print(\"{}th element : {}\".format(i, elem))\n",
    "            \n",
    "        return True\n",
    "\n",
    "    \n",
    "    def do_binary_search(self, elem):\n",
    "        \n",
    "        lower_index = 0\n",
    "        upper_index = len(self.haystack_array) - 1\n",
    "        mid = int(len(self.haystack_array) / 2)\n",
    "        index = -1\n",
    "        \n",
    "        while(lower_index <= upper_index):\n",
    "            \n",
    "            if self.haystack_array[mid] == elem:\n",
    "                index = mid\n",
    "                break\n",
    "            \n",
    "            if elem < self.haystack_array[mid]:\n",
    "                lower_index = lower_index\n",
    "                upper_index = mid - 1\n",
    "                mid = int((lower_index + upper_index) / 2)\n",
    "                continue\n",
    "                \n",
    "            if elem > self.haystack_array[mid]:\n",
    "                upper_index = upper_index\n",
    "                lower_index = mid + 1\n",
    "                mid = int((lower_index + upper_index) / 2)                \n",
    "                continue\n",
    "                \n",
    "        return index"
   ]
  },
  {
   "cell_type": "code",
   "execution_count": 3,
   "metadata": {},
   "outputs": [
    {
     "data": {
      "text/plain": [
       "True"
      ]
     },
     "execution_count": 3,
     "metadata": {},
     "output_type": "execute_result"
    },
    {
     "name": "stdout",
     "output_type": "stream",
     "text": [
      "0th element : 3\n",
      "1th element : 4\n",
      "2th element : 12\n",
      "3th element : 25\n",
      "4th element : 45\n",
      "5th element : 87\n",
      "6th element : 98\n"
     ]
    },
    {
     "data": {
      "text/plain": [
       "True"
      ]
     },
     "execution_count": 3,
     "metadata": {},
     "output_type": "execute_result"
    }
   ],
   "source": [
    "binary_search_inst = BinarySearch()\n",
    "binary_search_inst.sort_array()\n",
    "binary_search_inst.display_sorted_array()"
   ]
  },
  {
   "cell_type": "code",
   "execution_count": 4,
   "metadata": {},
   "outputs": [
    {
     "data": {
      "text/plain": [
       "2"
      ]
     },
     "execution_count": 4,
     "metadata": {},
     "output_type": "execute_result"
    }
   ],
   "source": [
    "index = binary_search_inst.do_binary_search(12)\n",
    "index"
   ]
  },
  {
   "cell_type": "code",
   "execution_count": 5,
   "metadata": {},
   "outputs": [
    {
     "data": {
      "text/plain": [
       "6"
      ]
     },
     "execution_count": 5,
     "metadata": {},
     "output_type": "execute_result"
    }
   ],
   "source": [
    "index = binary_search_inst.do_binary_search(98)\n",
    "index"
   ]
  },
  {
   "cell_type": "code",
   "execution_count": 6,
   "metadata": {},
   "outputs": [
    {
     "data": {
      "text/plain": [
       "-1"
      ]
     },
     "execution_count": 6,
     "metadata": {},
     "output_type": "execute_result"
    }
   ],
   "source": [
    "index = binary_search_inst.do_binary_search(99)\n",
    "index"
   ]
  }
 ],
 "metadata": {
  "kernelspec": {
   "display_name": "Python 3",
   "language": "python",
   "name": "python3"
  },
  "language_info": {
   "codemirror_mode": {
    "name": "ipython",
    "version": 3
   },
   "file_extension": ".py",
   "mimetype": "text/x-python",
   "name": "python",
   "nbconvert_exporter": "python",
   "pygments_lexer": "ipython3",
   "version": "3.6.8"
  }
 },
 "nbformat": 4,
 "nbformat_minor": 2
}
