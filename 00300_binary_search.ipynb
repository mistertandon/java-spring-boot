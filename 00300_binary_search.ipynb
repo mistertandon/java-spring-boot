{
 "cells": [
  {
   "cell_type": "code",
   "execution_count": 25,
   "metadata": {},
   "outputs": [],
   "source": [
    "from IPython.core.interactiveshell import InteractiveShell\n",
    "InteractiveShell.ast_node_interactivity = 'all'"
   ]
  },
  {
   "cell_type": "code",
   "execution_count": 26,
   "metadata": {},
   "outputs": [],
   "source": [
    "class BinarySearch():\n",
    "    \n",
    "    def __init__(self):\n",
    "        self.haystack_array = [12, 4, 3, 25, 98, 87, 45]\n",
    "\n",
    "    \n",
    "    def sort_array(self):\n",
    "        self.haystack_array.sort()\n",
    "\n",
    "        return True\n",
    "    \n",
    "\n",
    "    def display_sorted_array(self):\n",
    "\n",
    "        for i, elem in enumerate(self.haystack_array):\n",
    "            print(\"{}th element : {}\".format(i, elem))\n",
    "            \n",
    "        return True"
   ]
  },
  {
   "cell_type": "code",
   "execution_count": 27,
   "metadata": {},
   "outputs": [
    {
     "name": "stdout",
     "output_type": "stream",
     "text": [
      "0th element : 3\n",
      "1th element : 4\n",
      "2th element : 12\n",
      "3th element : 25\n",
      "4th element : 45\n",
      "5th element : 87\n",
      "6th element : 98\n"
     ]
    },
    {
     "data": {
      "text/plain": [
       "True"
      ]
     },
     "execution_count": 27,
     "metadata": {},
     "output_type": "execute_result"
    }
   ],
   "source": [
    "binary_search_inst = BinarySearch()\n",
    "binary_search_inst.sort_array()\n",
    "binary_search_inst.display_sorted_array()"
   ]
  }
 ],
 "metadata": {
  "kernelspec": {
   "display_name": "Python 3",
   "language": "python",
   "name": "python3"
  },
  "language_info": {
   "codemirror_mode": {
    "name": "ipython",
    "version": 3
   },
   "file_extension": ".py",
   "mimetype": "text/x-python",
   "name": "python",
   "nbconvert_exporter": "python",
   "pygments_lexer": "ipython3",
   "version": "3.6.8"
  }
 },
 "nbformat": 4,
 "nbformat_minor": 2
}
