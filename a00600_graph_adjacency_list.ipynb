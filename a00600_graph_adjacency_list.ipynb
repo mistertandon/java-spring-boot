{
 "cells": [
  {
   "cell_type": "code",
   "execution_count": 16,
   "metadata": {},
   "outputs": [],
   "source": [
    "import pixiedust\n",
    "from ppretty import ppretty"
   ]
  },
  {
   "cell_type": "code",
   "execution_count": 17,
   "metadata": {},
   "outputs": [],
   "source": [
    "from IPython.core.interactiveshell import InteractiveShell\n",
    "InteractiveShell.ast_node_interactivity = 'all'"
   ]
  },
  {
   "cell_type": "code",
   "execution_count": 18,
   "metadata": {},
   "outputs": [],
   "source": [
    "def print_object(obj):\n",
    "    \n",
    "    print(ppretty(obj, show_address=False, indent='   ',\n",
    "              show_properties=True, show_static=True, show_protected=True, seq_length=20, depth=10))\n",
    "    \n",
    "    return True"
   ]
  },
  {
   "cell_type": "code",
   "execution_count": 19,
   "metadata": {},
   "outputs": [],
   "source": [
    "def print_variable_type(var):\n",
    "    print(type(var))"
   ]
  },
  {
   "cell_type": "code",
   "execution_count": 20,
   "metadata": {},
   "outputs": [],
   "source": [
    "class Vertex:\n",
    "    def __init__(self, name):\n",
    "        self.name = name\n",
    "        self.neighbours = list()\n",
    "    \n",
    "    \n",
    "    def add_neighbour(self, neighbour):\n",
    "        if(neighbour not in self.neighbours):\n",
    "            self.neighbours.append(neighbour)\n",
    "            self.neighbours.sort()\n",
    "            \n",
    "            return True\n",
    "        else:\n",
    "            return False\n",
    "    \n",
    "    def get_neighbours(self):\n",
    "        return self.neighbours\n",
    "    \n",
    "    def get_name(self):\n",
    "        return self.name    "
   ]
  },
  {
   "cell_type": "code",
   "execution_count": 21,
   "metadata": {},
   "outputs": [],
   "source": [
    "InteractiveShell.ast_node_interactivity = 'none'"
   ]
  },
  {
   "cell_type": "code",
   "execution_count": 22,
   "metadata": {},
   "outputs": [],
   "source": [
    "vertex_a = Vertex('DEMO_VERTEX')\n",
    "vertex_a.add_neighbour('C')\n",
    "vertex_a.add_neighbour('E')\n",
    "vertex_a.add_neighbour('B')\n",
    "vertex_a.add_neighbour('B')"
   ]
  },
  {
   "cell_type": "code",
   "execution_count": 23,
   "metadata": {},
   "outputs": [
    {
     "name": "stdout",
     "output_type": "stream",
     "text": [
      "__main__.Vertex(\n",
      " name = 'DEMO_VERTEX', \n",
      " neighbours = ['B', 'C', 'E']\n",
      ")\n"
     ]
    }
   ],
   "source": [
    "print(ppretty(vertex_a, indent=' ', width=40, seq_length=10,\n",
    "              show_protected=True, show_static=True, show_properties=True, show_address=False))"
   ]
  },
  {
   "cell_type": "code",
   "execution_count": 24,
   "metadata": {},
   "outputs": [],
   "source": [
    "class Graph:\n",
    "    vertices = {}\n",
    "\n",
    "    def add_vertex(self, vertex):\n",
    "        if( isinstance(vertex, Vertex) and (vertex.name not in self.vertices)):\n",
    "            self.vertices[vertex.name] = vertex\n",
    "            print('Vertex %s has been added to graph'%(vertex.name))\n",
    "            \n",
    "            return True\n",
    "        else:\n",
    "            print('Vertex %s already exists in graph'%(vertex.name))\n",
    "            \n",
    "            return False\n",
    "\n",
    "\n",
    "    def add_edge(self, u, v):\n",
    "\n",
    "        if u in self.vertices and v in self.vertices:\n",
    "\n",
    "            for key, value in self.vertices.items():\n",
    "                if key == u:\n",
    "                    value.add_neighbour(v)\n",
    "                if key == v:\n",
    "                    value.add_neighbour(u)   \n",
    "\n",
    "            return True\n",
    "        else:\n",
    "            return False\n",
    "    \n",
    "    def is_vertex_exist(self, vertex):\n",
    "        \n",
    "        if vertex not in self.vertices:\n",
    "            print('Vertex \\'%s\\' doesn\\'t exists in graph'%(vertex))\n",
    "            return False\n",
    "        else:\n",
    "            print('Vertex \\'%s\\' exists in graph'%(vertex))\n",
    "            return True\n",
    "    \n",
    "\n",
    "    def get_vertex_neighbours(self, vertex):\n",
    "        \n",
    "        vertex_obj = self.vertices.get(vertex)\n",
    "        \n",
    "        return vertex_obj.get_neighbours()"
   ]
  },
  {
   "cell_type": "code",
   "execution_count": 25,
   "metadata": {},
   "outputs": [],
   "source": [
    "graph_inst = Graph()"
   ]
  },
  {
   "cell_type": "code",
   "execution_count": 26,
   "metadata": {},
   "outputs": [],
   "source": [
    "InteractiveShell.ast_node_interactivity = 'none'"
   ]
  },
  {
   "cell_type": "code",
   "execution_count": 27,
   "metadata": {},
   "outputs": [
    {
     "name": "stdout",
     "output_type": "stream",
     "text": [
      "Vertex a has been added to graph\n",
      "Vertex b has been added to graph\n",
      "Vertex c has been added to graph\n",
      "Vertex d has been added to graph\n",
      "Vertex e has been added to graph\n",
      "Vertex f has been added to graph\n",
      "Vertex g has been added to graph\n",
      "Vertex h has been added to graph\n",
      "Vertex i has been added to graph\n",
      "Vertex j has been added to graph\n"
     ]
    }
   ],
   "source": [
    "for vertex_name in range(ord('a'), ord('k')):\n",
    "    graph_inst.add_vertex(Vertex(chr(vertex_name)))"
   ]
  },
  {
   "cell_type": "code",
   "execution_count": 28,
   "metadata": {},
   "outputs": [],
   "source": [
    "edges = ['ab', 'ac', 'ad', 'bc', 'be', 'cd', 'ce', 'de', 'ef', 'eg', 'eh', 'fg', 'fi', 'fj', 'gh', 'gi', 'gj']"
   ]
  },
  {
   "cell_type": "code",
   "execution_count": 29,
   "metadata": {},
   "outputs": [],
   "source": [
    "for edge in edges:\n",
    "    graph_inst.add_edge(edge[:1], edge[1:])"
   ]
  },
  {
   "cell_type": "code",
   "execution_count": 30,
   "metadata": {},
   "outputs": [
    {
     "name": "stdout",
     "output_type": "stream",
     "text": [
      "__main__.Graph(\n",
      "   vertices = {\n",
      "         'a': __main__.Vertex(name = 'a', neighbours = ['b', 'c', 'd']), \n",
      "         'b': __main__.Vertex(name = 'b', neighbours = ['a', 'c', 'e']), \n",
      "         'c': __main__.Vertex(name = 'c', neighbours = ['a', 'b', 'd', 'e']), \n",
      "         'd': __main__.Vertex(name = 'd', neighbours = ['a', 'c', 'e']), \n",
      "         'e': __main__.Vertex(\n",
      "            name = 'e',    neighbours = ['b', 'c', 'd', 'f', 'g', 'h']), \n",
      "         'f': __main__.Vertex(name = 'f', neighbours = ['e', 'g', 'i', 'j']), \n",
      "         'g': __main__.Vertex(\n",
      "            name = 'g',    neighbours = ['e', 'f', 'h', 'i', 'j']), \n",
      "         'h': __main__.Vertex(name = 'h', neighbours = ['e', 'g']), \n",
      "         'i': __main__.Vertex(name = 'i', neighbours = ['f', 'g']), \n",
      "         'j': __main__.Vertex(name = 'j', neighbours = ['f', 'g'])\n",
      "      }\n",
      ")\n"
     ]
    }
   ],
   "source": [
    "print_object(graph_inst)"
   ]
  },
  {
   "cell_type": "code",
   "execution_count": null,
   "metadata": {},
   "outputs": [],
   "source": []
  }
 ],
 "metadata": {
  "kernelspec": {
   "display_name": "Python 3",
   "language": "python",
   "name": "python3"
  },
  "language_info": {
   "codemirror_mode": {
    "name": "ipython",
    "version": 3
   },
   "file_extension": ".py",
   "mimetype": "text/x-python",
   "name": "python",
   "nbconvert_exporter": "python",
   "pygments_lexer": "ipython3",
   "version": "3.6.8"
  }
 },
 "nbformat": 4,
 "nbformat_minor": 2
}
