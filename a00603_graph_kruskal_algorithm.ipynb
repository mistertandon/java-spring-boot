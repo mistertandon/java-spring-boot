{
 "cells": [
  {
   "cell_type": "code",
   "execution_count": 1,
   "metadata": {},
   "outputs": [],
   "source": [
    "from IPython.core.interactiveshell import InteractiveShell\n",
    "InteractiveShell.ast_node_interactivity = 'all'"
   ]
  },
  {
   "cell_type": "code",
   "execution_count": 2,
   "metadata": {},
   "outputs": [
    {
     "name": "stdout",
     "output_type": "stream",
     "text": [
      "Pixiedust database opened successfully\n"
     ]
    },
    {
     "data": {
      "text/html": [
       "\n",
       "        <div style=\"margin:10px\">\n",
       "            <a href=\"https://github.com/ibm-watson-data-lab/pixiedust\" target=\"_new\">\n",
       "                <img src=\"https://github.com/ibm-watson-data-lab/pixiedust/raw/master/docs/_static/pd_icon32.png\" style=\"float:left;margin-right:10px\"/>\n",
       "            </a>\n",
       "            <span>Pixiedust version 1.1.17</span>\n",
       "        </div>\n",
       "        "
      ],
      "text/plain": [
       "<IPython.core.display.HTML object>"
      ]
     },
     "metadata": {},
     "output_type": "display_data"
    }
   ],
   "source": [
    "import pixiedust"
   ]
  },
  {
   "cell_type": "code",
   "execution_count": 3,
   "metadata": {},
   "outputs": [],
   "source": [
    "from a000100_helper import print_object, print_variable_type"
   ]
  },
  {
   "cell_type": "code",
   "execution_count": 4,
   "metadata": {},
   "outputs": [
    {
     "name": "stdout",
     "output_type": "stream",
     "text": [
      "importing Jupyter notebook from a006020_graph_adjacency_list_weighted.ipynb\n"
     ]
    }
   ],
   "source": [
    "import import_ipynb\n",
    "from a006020_graph_adjacency_list_weighted import Graph, Vertex, Edge"
   ]
  },
  {
   "cell_type": "code",
   "execution_count": 5,
   "metadata": {},
   "outputs": [],
   "source": [
    "InteractiveShell.ast_node_interactivity = 'none'"
   ]
  },
  {
   "cell_type": "code",
   "execution_count": 6,
   "metadata": {},
   "outputs": [],
   "source": [
    "class Kruskal(Graph):\n",
    "\n",
    "    def __init__(self):\n",
    "        self.vertices_list = list()\n",
    "        self.traversed_vertices = list()\n",
    "\n",
    "\n",
    "    def remove_parallel_edges_and_self_loop(self):\n",
    "        for vertex_name, vertex_obj in self.vertices.items():\n",
    "\n",
    "            vertices_mapping = {}\n",
    "            for neighbour in vertex_obj.get_neighbours():\n",
    "\n",
    "                if (( vertex_name != neighbour.destination )\n",
    "                    and ( neighbour.destination in vertices_mapping )\n",
    "                    and ( vertices_mapping.get(neighbour.destination).weight > neighbour.weight )):\n",
    "\n",
    "                    vertices_mapping[neighbour.destination] = neighbour\n",
    "                elif (not neighbour.destination in vertices_mapping \n",
    "                      and ( vertex_name != neighbour.destination )):\n",
    " \n",
    "                    vertices_mapping[neighbour.destination] = neighbour\n",
    "    \n",
    "            [self.vertices_list.append(vertex) or vertex for vertex in vertices_mapping.values()]\n",
    "\n",
    "\n",
    "#     def get_mst(self):\n",
    "        \n",
    "        \n",
    "        "
   ]
  },
  {
   "cell_type": "code",
   "execution_count": null,
   "metadata": {},
   "outputs": [],
   "source": []
  },
  {
   "cell_type": "code",
   "execution_count": 7,
   "metadata": {},
   "outputs": [],
   "source": [
    "graph_inst = Kruskal()"
   ]
  },
  {
   "cell_type": "code",
   "execution_count": 8,
   "metadata": {},
   "outputs": [
    {
     "name": "stdout",
     "output_type": "stream",
     "text": [
      "Vertex a has been added to graph\n",
      "Vertex b has been added to graph\n",
      "Vertex c has been added to graph\n",
      "Vertex d has been added to graph\n",
      "Vertex e has been added to graph\n",
      "Vertex f has been added to graph\n"
     ]
    }
   ],
   "source": [
    "for vertex_name in range(ord('a'), ord('g')):\n",
    "    graph_inst.add_vertex(Vertex(chr(vertex_name)))"
   ]
  },
  {
   "cell_type": "code",
   "execution_count": 9,
   "metadata": {},
   "outputs": [
    {
     "name": "stdout",
     "output_type": "stream",
     "text": [
      "__main__.Kruskal(\n",
      "   traversed_vertices = [], \n",
      "   vertices = {\n",
      "         'a': a006020_graph_adjacency_list_weighted.Vertex(\n",
      "            name = 'a',    neighbours = []), \n",
      "         'b': a006020_graph_adjacency_list_weighted.Vertex(\n",
      "            name = 'b',    neighbours = []), \n",
      "         'c': a006020_graph_adjacency_list_weighted.Vertex(\n",
      "            name = 'c',    neighbours = []), \n",
      "         'd': a006020_graph_adjacency_list_weighted.Vertex(\n",
      "            name = 'd',    neighbours = []), \n",
      "         'e': a006020_graph_adjacency_list_weighted.Vertex(\n",
      "            name = 'e',    neighbours = []), \n",
      "         'f': a006020_graph_adjacency_list_weighted.Vertex(\n",
      "            name = 'f',    neighbours = [])\n",
      "      }, \n",
      "   vertices_list = []\n",
      ")\n"
     ]
    }
   ],
   "source": [
    "print_object(graph_inst)"
   ]
  },
  {
   "cell_type": "code",
   "execution_count": 10,
   "metadata": {},
   "outputs": [],
   "source": [
    "edges = [('a','b', 5), ('a','b', 10), ('a', 'c', 3),\n",
    "         ('b','c', 6), ('b', 'd', 2),\n",
    "         ('c', 'd', 3),\n",
    "         ('d', 'e', 2),\n",
    "         ('e', 'b', 4), ('e', 'e', 10),\n",
    "         ('f', 'a', 7), ('f', 'c', 7)\n",
    "        ]"
   ]
  },
  {
   "cell_type": "code",
   "execution_count": 11,
   "metadata": {},
   "outputs": [],
   "source": [
    "for source, destination, weight in edges:\n",
    "    graph_inst.add_edge(source, destination, weight)"
   ]
  },
  {
   "cell_type": "code",
   "execution_count": 12,
   "metadata": {
    "pixiedust": {
     "displayParams": {}
    }
   },
   "outputs": [
    {
     "name": "stdout",
     "output_type": "stream",
     "text": [
      "[\n",
      "   a006020_graph_adjacency_list_weighted.Edge(\n",
      "      destination = 'b', \n",
      "      source = 'a', \n",
      "      weight = 5\n",
      "   ), \n",
      "   a006020_graph_adjacency_list_weighted.Edge(\n",
      "      destination = 'c', \n",
      "      source = 'a', \n",
      "      weight = 3\n",
      "   ), \n",
      "   a006020_graph_adjacency_list_weighted.Edge(\n",
      "      destination = 'c', \n",
      "      source = 'b', \n",
      "      weight = 6\n",
      "   ), \n",
      "   a006020_graph_adjacency_list_weighted.Edge(\n",
      "      destination = 'd', \n",
      "      source = 'b', \n",
      "      weight = 2\n",
      "   ), \n",
      "   a006020_graph_adjacency_list_weighted.Edge(\n",
      "      destination = 'd', \n",
      "      source = 'c', \n",
      "      weight = 3\n",
      "   ), \n",
      "   a006020_graph_adjacency_list_weighted.Edge(\n",
      "      destination = 'e', \n",
      "      source = 'd', \n",
      "      weight = 2\n",
      "   ), \n",
      "   a006020_graph_adjacency_list_weighted.Edge(\n",
      "      destination = 'b', \n",
      "      source = 'e', \n",
      "      weight = 4\n",
      "   ), \n",
      "   a006020_graph_adjacency_list_weighted.Edge(\n",
      "      destination = 'a', \n",
      "      source = 'f', \n",
      "      weight = 7\n",
      "   ), \n",
      "   a006020_graph_adjacency_list_weighted.Edge(\n",
      "      destination = 'c', \n",
      "      source = 'f', \n",
      "      weight = 7\n",
      "   )\n",
      "]\n"
     ]
    }
   ],
   "source": [
    "\n",
    "graph_inst.remove_parallel_edges_and_self_loop()"
   ]
  },
  {
   "cell_type": "code",
   "execution_count": 13,
   "metadata": {},
   "outputs": [
    {
     "name": "stdout",
     "output_type": "stream",
     "text": [
      "__main__.Kruskal(\n",
      "   traversed_vertices = [], \n",
      "   vertices = {\n",
      "         'a': a006020_graph_adjacency_list_weighted.Vertex(\n",
      "               name = 'a', \n",
      "               neighbours = [\n",
      "                     a006020_graph_adjacency_list_weighted.Edge(\n",
      "                        destination = 'b', \n",
      "                        source = 'a', \n",
      "                        weight = 5\n",
      "                     ), \n",
      "                     a006020_graph_adjacency_list_weighted.Edge(\n",
      "                        destination = 'b', \n",
      "                        source = 'a', \n",
      "                        weight = 10\n",
      "                     ), \n",
      "                     a006020_graph_adjacency_list_weighted.Edge(\n",
      "                        destination = 'c', \n",
      "                        source = 'a', \n",
      "                        weight = 3\n",
      "                     )\n",
      "                  ]\n",
      "            ), \n",
      "         'b': a006020_graph_adjacency_list_weighted.Vertex(\n",
      "               name = 'b', \n",
      "               neighbours = [\n",
      "                     a006020_graph_adjacency_list_weighted.Edge(\n",
      "                        destination = 'c', \n",
      "                        source = 'b', \n",
      "                        weight = 6\n",
      "                     ), \n",
      "                     a006020_graph_adjacency_list_weighted.Edge(\n",
      "                        destination = 'd', \n",
      "                        source = 'b', \n",
      "                        weight = 2\n",
      "                     )\n",
      "                  ]\n",
      "            ), \n",
      "         'c': a006020_graph_adjacency_list_weighted.Vertex(\n",
      "               name = 'c', \n",
      "               neighbours = [\n",
      "                     a006020_graph_adjacency_list_weighted.Edge(\n",
      "                        destination = 'd', \n",
      "                        source = 'c', \n",
      "                        weight = 3\n",
      "                     )\n",
      "                  ]\n",
      "            ), \n",
      "         'd': a006020_graph_adjacency_list_weighted.Vertex(\n",
      "               name = 'd', \n",
      "               neighbours = [\n",
      "                     a006020_graph_adjacency_list_weighted.Edge(\n",
      "                        destination = 'e', \n",
      "                        source = 'd', \n",
      "                        weight = 2\n",
      "                     )\n",
      "                  ]\n",
      "            ), \n",
      "         'e': a006020_graph_adjacency_list_weighted.Vertex(\n",
      "               name = 'e', \n",
      "               neighbours = [\n",
      "                     a006020_graph_adjacency_list_weighted.Edge(\n",
      "                        destination = 'b', \n",
      "                        source = 'e', \n",
      "                        weight = 4\n",
      "                     ), \n",
      "                     a006020_graph_adjacency_list_weighted.Edge(\n",
      "                        destination = 'e', \n",
      "                        source = 'e', \n",
      "                        weight = 10\n",
      "                     )\n",
      "                  ]\n",
      "            ), \n",
      "         'f': a006020_graph_adjacency_list_weighted.Vertex(\n",
      "               name = 'f', \n",
      "               neighbours = [\n",
      "                     a006020_graph_adjacency_list_weighted.Edge(\n",
      "                        destination = 'a', \n",
      "                        source = 'f', \n",
      "                        weight = 7\n",
      "                     ), \n",
      "                     a006020_graph_adjacency_list_weighted.Edge(\n",
      "                        destination = 'c', \n",
      "                        source = 'f', \n",
      "                        weight = 7\n",
      "                     )\n",
      "                  ]\n",
      "            )\n",
      "      }, \n",
      "   vertices_list = [\n",
      "         a006020_graph_adjacency_list_weighted.Edge(\n",
      "            destination = 'b', \n",
      "            source = 'a', \n",
      "            weight = 5\n",
      "         ), \n",
      "         a006020_graph_adjacency_list_weighted.Edge(\n",
      "            destination = 'c', \n",
      "            source = 'a', \n",
      "            weight = 3\n",
      "         ), \n",
      "         a006020_graph_adjacency_list_weighted.Edge(\n",
      "            destination = 'c', \n",
      "            source = 'b', \n",
      "            weight = 6\n",
      "         ), \n",
      "         a006020_graph_adjacency_list_weighted.Edge(\n",
      "            destination = 'd', \n",
      "            source = 'b', \n",
      "            weight = 2\n",
      "         ), \n",
      "         a006020_graph_adjacency_list_weighted.Edge(\n",
      "            destination = 'd', \n",
      "            source = 'c', \n",
      "            weight = 3\n",
      "         ), \n",
      "         a006020_graph_adjacency_list_weighted.Edge(\n",
      "            destination = 'e', \n",
      "            source = 'd', \n",
      "            weight = 2\n",
      "         ), \n",
      "         a006020_graph_adjacency_list_weighted.Edge(\n",
      "            destination = 'b', \n",
      "            source = 'e', \n",
      "            weight = 4\n",
      "         ), \n",
      "         a006020_graph_adjacency_list_weighted.Edge(\n",
      "            destination = 'a', \n",
      "            source = 'f', \n",
      "            weight = 7\n",
      "         ), \n",
      "         a006020_graph_adjacency_list_weighted.Edge(\n",
      "            destination = 'c', \n",
      "            source = 'f', \n",
      "            weight = 7\n",
      "         )\n",
      "      ]\n",
      ")\n"
     ]
    }
   ],
   "source": [
    "print_object(graph_inst)"
   ]
  },
  {
   "cell_type": "code",
   "execution_count": null,
   "metadata": {},
   "outputs": [],
   "source": []
  }
 ],
 "metadata": {
  "kernelspec": {
   "display_name": "Python 3",
   "language": "python",
   "name": "python3"
  },
  "language_info": {
   "codemirror_mode": {
    "name": "ipython",
    "version": 3
   },
   "file_extension": ".py",
   "mimetype": "text/x-python",
   "name": "python",
   "nbconvert_exporter": "python",
   "pygments_lexer": "ipython3",
   "version": "3.6.8"
  },
  "toc": {
   "base_numbering": 1,
   "nav_menu": {},
   "number_sections": true,
   "sideBar": true,
   "skip_h1_title": false,
   "title_cell": "Table of Contents",
   "title_sidebar": "Contents",
   "toc_cell": false,
   "toc_position": {},
   "toc_section_display": true,
   "toc_window_display": false
  }
 },
 "nbformat": 4,
 "nbformat_minor": 2
}
