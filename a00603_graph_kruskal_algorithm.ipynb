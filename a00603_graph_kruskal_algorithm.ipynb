{
 "cells": [
  {
   "cell_type": "code",
   "execution_count": 15,
   "metadata": {},
   "outputs": [],
   "source": [
    "from IPython.core.interactiveshell import InteractiveShell\n",
    "InteractiveShell.ast_node_interactivity = 'all'"
   ]
  },
  {
   "cell_type": "code",
   "execution_count": 16,
   "metadata": {},
   "outputs": [],
   "source": [
    "import pixiedust"
   ]
  },
  {
   "cell_type": "code",
   "execution_count": 17,
   "metadata": {},
   "outputs": [],
   "source": [
    "from a000100_helper import print_object, print_variable_type"
   ]
  },
  {
   "cell_type": "code",
   "execution_count": 18,
   "metadata": {},
   "outputs": [],
   "source": [
    "import import_ipynb\n",
    "from a006020_graph_adjacency_list_weighted import Graph, Vertex, Edge"
   ]
  },
  {
   "cell_type": "code",
   "execution_count": 19,
   "metadata": {},
   "outputs": [],
   "source": [
    "InteractiveShell.ast_node_interactivity = 'none'"
   ]
  },
  {
   "cell_type": "code",
   "execution_count": 29,
   "metadata": {},
   "outputs": [],
   "source": [
    "class Kruskal(Graph):\n",
    "    \n",
    "\n",
    "    def __init__(self):\n",
    "        self.vertices_list = list()\n",
    "        self.traversed_vertices = list()\n",
    "        self.mst = {}\n",
    "\n",
    "\n",
    "    def remove_parallel_edges_and_self_loop(self):\n",
    "\n",
    "        for vertex_name, vertex_obj in self.vertices.items():\n",
    "\n",
    "            vertices_mapping = {}\n",
    "            self.mst[vertex_name] = list()\n",
    "            for neighbour in vertex_obj.get_neighbours():\n",
    "\n",
    "                if (( vertex_name != neighbour.destination )\n",
    "                    and ( neighbour.destination in vertices_mapping )\n",
    "                    and ( vertices_mapping.get(neighbour.destination).weight > neighbour.weight )):\n",
    "\n",
    "                    vertices_mapping[neighbour.destination] = neighbour\n",
    "                elif (not neighbour.destination in vertices_mapping \n",
    "                      and ( vertex_name != neighbour.destination )):\n",
    " \n",
    "                    vertices_mapping[neighbour.destination] = neighbour\n",
    "    \n",
    "            [self.vertices_list.append(vertex) or vertex for vertex in vertices_mapping.values()]\n",
    "\n",
    "\n",
    "    def sort_edges_asc(self):\n",
    "\n",
    "        self.vertices_list.sort(key = lambda vertex: vertex.weight, reverse = False)\n",
    "\n",
    "\n",
    "    def create_mst(self):\n",
    "        print_object(self.vertices_list)\n",
    "        for vertex in self.vertices_list:\n",
    "            if (vertex.source in self.traversed_vertices) and (vertex.destination in self.traversed_vertices):\n",
    "                print('Looping occured, thus no need to add edge')\n",
    "            else:\n",
    "                self.traversed_vertices.append(vertex.source)\n",
    "                vertex.flag = 0\n",
    "                self.traversed_vertices.append(vertex.destination)\n",
    "                self.mst[vertex.source].append(vertex)\n",
    "        \n",
    "        \n",
    "    def get_mst(self):\n",
    "        self.remove_parallel_edges_and_self_loop()\n",
    "        self.sort_edges_asc()\n",
    "        self.create_mst()\n",
    "\n",
    "\n",
    "    def display_mst(self):\n",
    "        print_object(self.mst)"
   ]
  },
  {
   "cell_type": "code",
   "execution_count": 21,
   "metadata": {},
   "outputs": [],
   "source": [
    "graph_inst = Kruskal()"
   ]
  },
  {
   "cell_type": "code",
   "execution_count": 22,
   "metadata": {},
   "outputs": [
    {
     "name": "stdout",
     "output_type": "stream",
     "text": [
      "Vertex a already exists in graph\n",
      "Vertex b already exists in graph\n",
      "Vertex c already exists in graph\n",
      "Vertex d already exists in graph\n",
      "Vertex e already exists in graph\n",
      "Vertex f already exists in graph\n"
     ]
    }
   ],
   "source": [
    "for vertex_name in range(ord('a'), ord('g')):\n",
    "    graph_inst.add_vertex(Vertex(chr(vertex_name)))"
   ]
  },
  {
   "cell_type": "code",
   "execution_count": 23,
   "metadata": {},
   "outputs": [],
   "source": [
    "# print_object(graph_inst)"
   ]
  },
  {
   "cell_type": "code",
   "execution_count": 24,
   "metadata": {},
   "outputs": [],
   "source": [
    "edges = [('a','b', 5), ('a','b', 10), ('a', 'c', 3),\n",
    "         ('b','c', 6), ('b', 'd', 2),\n",
    "         ('c', 'd', 3),\n",
    "         ('d', 'e', 2),\n",
    "         ('e', 'b', 4), ('e', 'e', 10),\n",
    "         ('f', 'a', 7), ('f', 'c', 8)\n",
    "        ]"
   ]
  },
  {
   "cell_type": "code",
   "execution_count": 25,
   "metadata": {},
   "outputs": [],
   "source": [
    "for source, destination, weight in edges:\n",
    "    graph_inst.add_edge(source, destination, weight)"
   ]
  },
  {
   "cell_type": "code",
   "execution_count": null,
   "metadata": {
    "pixiedust": {
     "displayParams": {}
    }
   },
   "outputs": [
    {
     "data": {
      "text/html": [
       "<style type=\"text/css\">.pd_warning{display:none;}</style><div class=\"pd_warning\"><em>Hey, there's something awesome here! To see it, open this notebook outside GitHub, in a viewer like Jupyter</em></div>"
      ],
      "text/plain": [
       "<IPython.core.display.HTML object>"
      ]
     },
     "metadata": {
      "pixieapp_metadata": null
     },
     "output_type": "display_data"
    }
   ],
   "source": [
    "%%pixie_debugger\n",
    "graph_inst.get_mst()"
   ]
  },
  {
   "cell_type": "code",
   "execution_count": 27,
   "metadata": {},
   "outputs": [
    {
     "name": "stdout",
     "output_type": "stream",
     "text": [
      "{}\n"
     ]
    }
   ],
   "source": [
    "graph_inst.display_mst()"
   ]
  },
  {
   "cell_type": "code",
   "execution_count": 28,
   "metadata": {},
   "outputs": [],
   "source": [
    "# print_object(graph_inst)"
   ]
  },
  {
   "cell_type": "code",
   "execution_count": null,
   "metadata": {},
   "outputs": [],
   "source": []
  }
 ],
 "metadata": {
  "kernelspec": {
   "display_name": "Python 3",
   "language": "python",
   "name": "python3"
  },
  "language_info": {
   "codemirror_mode": {
    "name": "ipython",
    "version": 3
   },
   "file_extension": ".py",
   "mimetype": "text/x-python",
   "name": "python",
   "nbconvert_exporter": "python",
   "pygments_lexer": "ipython3",
   "version": "3.6.8"
  },
  "toc": {
   "base_numbering": 1,
   "nav_menu": {},
   "number_sections": true,
   "sideBar": true,
   "skip_h1_title": false,
   "title_cell": "Table of Contents",
   "title_sidebar": "Contents",
   "toc_cell": false,
   "toc_position": {},
   "toc_section_display": true,
   "toc_window_display": false
  }
 },
 "nbformat": 4,
 "nbformat_minor": 2
}
