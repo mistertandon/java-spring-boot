{
 "cells": [
  {
   "cell_type": "code",
   "execution_count": 124,
   "metadata": {},
   "outputs": [],
   "source": [
    "from IPython.core.interactiveshell import InteractiveShell\n",
    "InteractiveShell.ast_node_interactivity = 'all'"
   ]
  },
  {
   "cell_type": "code",
   "execution_count": 125,
   "metadata": {},
   "outputs": [],
   "source": [
    "import pixiedust"
   ]
  },
  {
   "cell_type": "code",
   "execution_count": 126,
   "metadata": {},
   "outputs": [],
   "source": [
    "import import_ipynb"
   ]
  },
  {
   "cell_type": "code",
   "execution_count": 127,
   "metadata": {},
   "outputs": [],
   "source": [
    "from a000100_helper import print_object, print_variable_type"
   ]
  },
  {
   "cell_type": "code",
   "execution_count": 128,
   "metadata": {},
   "outputs": [],
   "source": [
    "import math"
   ]
  },
  {
   "cell_type": "code",
   "execution_count": 129,
   "metadata": {},
   "outputs": [],
   "source": [
    "class SegmentTree(object):\n",
    "    \n",
    "    age_binary_array = list()\n",
    "    \n",
    "    def __init__(self, array):\n",
    "        self.age_arr = array\n",
    "\n",
    "\n",
    "    def get_binary_tree_size(self):\n",
    "        self.age_binary_array = [0] * ( 2 * self.power_log() - 1 )\n",
    "\n",
    "\n",
    "    def power_log(self):\n",
    "        return 2**(math.ceil(math.log(len(self.age_arr), 2)))\n",
    "\n",
    "\n",
    "    def get_binary_tree(self):\n",
    "        start_index = 0\n",
    "        end_index = len(self.age_arr) - 1\n",
    "        print(self.age_binary_array)\n",
    "        self.construct_binary_tree(start_index, end_index)\n",
    "        print(self.age_binary_array)\n",
    "\n",
    "        return True\n",
    "\n",
    "\n",
    "    def construct_binary_tree(self, start_index, end_index, parent_index = 0):\n",
    "        \n",
    "        if start_index == end_index:\n",
    "            return self.age_arr[start_index]\n",
    "        \n",
    "        median = int((start_index + end_index) / 2)\n",
    "        left_child_index = (2 * parent_index) + 1\n",
    "        right_child_index = (2 * parent_index) + 2 \n",
    "        \n",
    "        element_i = self.construct_binary_tree(start_index, median, left_child_index)\n",
    "        element_ii = self.construct_binary_tree(median + 1, end_index, right_child_index)\n",
    "        \n",
    "        min_element = min(element_i, element_ii)\n",
    "        self.age_binary_array[parent_index] = min_element\n",
    "        self.age_binary_array[left_child_index] = element_i\n",
    "        self.age_binary_array[right_child_index] = element_ii\n",
    "        \n",
    "        return min_element        "
   ]
  },
  {
   "cell_type": "markdown",
   "metadata": {},
   "source": [
    "5, 10, 3, 20 (0, 3, 1)\n",
    "                    5, 10 (0, 1, 3)\n",
    "                                    5 (0, 0)\n",
    "                                    10 (1, 1)\n",
    "                    3, 20 (2, 3, 4)\n",
    "                                    3 (2, 2, 5)\n",
    "                                    20 (3, 3, 6)\n",
    "\n",
    "\n",
    "11, 4, 1, 3 (4, 7, 2)\n",
    "                    11, 4 (4, 5, 5)\n",
    "                                    11 (4, 4)\n",
    "                                    4 (5, 5)\n",
    "                    1, 3 (6, 7, 6)\n",
    "                                    1 (6, 6)\n",
    "                                    3 (7, 7)"
   ]
  },
  {
   "cell_type": "code",
   "execution_count": null,
   "metadata": {},
   "outputs": [],
   "source": []
  }
 ],
 "metadata": {
  "kernelspec": {
   "display_name": "Python 3",
   "language": "python",
   "name": "python3"
  },
  "language_info": {
   "codemirror_mode": {
    "name": "ipython",
    "version": 3
   },
   "file_extension": ".py",
   "mimetype": "text/x-python",
   "name": "python",
   "nbconvert_exporter": "python",
   "pygments_lexer": "ipython3",
   "version": "3.6.8"
  },
  "toc": {
   "base_numbering": 1,
   "nav_menu": {},
   "number_sections": true,
   "sideBar": true,
   "skip_h1_title": false,
   "title_cell": "Table of Contents",
   "title_sidebar": "Contents",
   "toc_cell": false,
   "toc_position": {},
   "toc_section_display": true,
   "toc_window_display": false
  }
 },
 "nbformat": 4,
 "nbformat_minor": 2
}
