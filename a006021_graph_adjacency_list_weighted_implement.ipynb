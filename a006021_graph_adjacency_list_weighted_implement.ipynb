{
 "cells": [
  {
   "cell_type": "code",
   "execution_count": null,
   "metadata": {},
   "outputs": [],
   "source": [
    "from IPython.core.interactiveshell import InteractiveShell\n",
    "InteractiveShell.ast_node_interactivity = 'all'"
   ]
  },
  {
   "cell_type": "code",
   "execution_count": null,
   "metadata": {},
   "outputs": [],
   "source": [
    "from a000100_helper import print_object, print_variable_type"
   ]
  },
  {
   "cell_type": "code",
   "execution_count": null,
   "metadata": {},
   "outputs": [],
   "source": [
    "import import_ipynb\n",
    "from a006020_graph_adjacency_list_weighted import Graph, Vertex, Edge"
   ]
  },
  {
   "cell_type": "code",
   "execution_count": null,
   "metadata": {},
   "outputs": [],
   "source": [
    "vertex_a = Vertex('DEMO_VERTEX')\n",
    "vertex_a.add_neighbour('C')\n",
    "vertex_a.add_neighbour('E')\n",
    "vertex_a.add_neighbour('B')\n",
    "vertex_a.add_neighbour('B')"
   ]
  },
  {
   "cell_type": "code",
   "execution_count": null,
   "metadata": {},
   "outputs": [],
   "source": [
    "print_object(vertex_a)"
   ]
  },
  {
   "cell_type": "code",
   "execution_count": null,
   "metadata": {},
   "outputs": [],
   "source": [
    "graph_inst = Graph()"
   ]
  },
  {
   "cell_type": "code",
   "execution_count": null,
   "metadata": {},
   "outputs": [],
   "source": [
    "InteractiveShell.ast_node_interactivity = 'none'"
   ]
  },
  {
   "cell_type": "code",
   "execution_count": null,
   "metadata": {},
   "outputs": [],
   "source": [
    "for vertex_name in range(ord('a'), ord('k')):\n",
    "    graph_inst.add_vertex(Vertex(chr(vertex_name)))"
   ]
  },
  {
   "cell_type": "code",
   "execution_count": null,
   "metadata": {},
   "outputs": [],
   "source": [
    "edges = [('a','b', '1'), ('a', 'c', '2'), ('a', 'd', '3'),\n",
    "         ('b','c', '4'), ('b', 'e', '5'),\n",
    "         ('c', 'd', '6'), ('c', 'e', '7'),\n",
    "         ('d', 'e', '8'),\n",
    "         ('e', 'f', '9'),\n",
    "         ('e', 'g', '10'),('e', 'h', '11'),\n",
    "         ('f', 'g', '12'), ('f', 'i', '13'),\n",
    "         ('g', 'h', '15'), ('g', 'i', '16'), ('g', 'j', '17'),\n",
    "         ('h', 'j', '18')\n",
    "        ]"
   ]
  },
  {
   "cell_type": "code",
   "execution_count": null,
   "metadata": {},
   "outputs": [],
   "source": [
    "for source, destination, weight in edges:\n",
    "    graph_inst.add_edge(source, destination, weight)"
   ]
  },
  {
   "cell_type": "code",
   "execution_count": null,
   "metadata": {},
   "outputs": [],
   "source": [
    "print_object(graph_inst)"
   ]
  }
 ],
 "metadata": {
  "kernelspec": {
   "display_name": "Python 3",
   "language": "python",
   "name": "python3"
  },
  "language_info": {
   "codemirror_mode": {
    "name": "ipython",
    "version": 3
   },
   "file_extension": ".py",
   "mimetype": "text/x-python",
   "name": "python",
   "nbconvert_exporter": "python",
   "pygments_lexer": "ipython3",
   "version": "3.6.8"
  },
  "toc": {
   "base_numbering": 1,
   "nav_menu": {},
   "number_sections": true,
   "sideBar": true,
   "skip_h1_title": false,
   "title_cell": "Table of Contents",
   "title_sidebar": "Contents",
   "toc_cell": false,
   "toc_position": {},
   "toc_section_display": true,
   "toc_window_display": false
  }
 },
 "nbformat": 4,
 "nbformat_minor": 2
}
