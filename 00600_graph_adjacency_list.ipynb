{
 "cells": [
  {
   "cell_type": "code",
   "execution_count": 280,
   "metadata": {},
   "outputs": [],
   "source": [
    "import pixiedust\n",
    "from ppretty import ppretty"
   ]
  },
  {
   "cell_type": "code",
   "execution_count": 281,
   "metadata": {},
   "outputs": [],
   "source": [
    "from IPython.core.interactiveshell import InteractiveShell\n",
    "InteractiveShell.ast_node_interactivity = 'all'"
   ]
  },
  {
   "cell_type": "code",
   "execution_count": 282,
   "metadata": {},
   "outputs": [],
   "source": [
    "class Vertex:\n",
    "    def __init__(self, name):\n",
    "        self.name = name\n",
    "        self.neighbours = list()\n",
    "    \n",
    "    \n",
    "    def add_neighbour(self, neighbour):\n",
    "        if(neighbour not in self.neighbours):\n",
    "            self.neighbours.append(neighbour)\n",
    "            self.neighbours.sort()\n",
    "            \n",
    "            return True\n",
    "        else:\n",
    "            return False"
   ]
  },
  {
   "cell_type": "code",
   "execution_count": 283,
   "metadata": {},
   "outputs": [],
   "source": [
    "InteractiveShell.ast_node_interactivity = 'none'"
   ]
  },
  {
   "cell_type": "code",
   "execution_count": 284,
   "metadata": {},
   "outputs": [],
   "source": [
    "vertex_a = Vertex('DEMO_VERTEX')\n",
    "vertex_a.add_neighbour('C')\n",
    "vertex_a.add_neighbour('E')\n",
    "vertex_a.add_neighbour('B')\n",
    "vertex_a.add_neighbour('B')"
   ]
  },
  {
   "cell_type": "code",
   "execution_count": 285,
   "metadata": {},
   "outputs": [
    {
     "name": "stdout",
     "output_type": "stream",
     "text": [
      "__main__.Vertex(\n",
      " name = 'DEMO_VERTEX', \n",
      " neighbours = ['B', 'C', 'E']\n",
      ")\n"
     ]
    }
   ],
   "source": [
    "print(ppretty(vertex_a, indent=' ', width=40, seq_length=10,\n",
    "              show_protected=True, show_static=True, show_properties=True, show_address=False))"
   ]
  },
  {
   "cell_type": "code",
   "execution_count": 286,
   "metadata": {},
   "outputs": [],
   "source": [
    "class Graph:\n",
    "    vertices = {}\n",
    "\n",
    "    def add_vertex(self, vertex):\n",
    "        if( isinstance(vertex, Vertex) and (vertex.name not in self.vertices)):\n",
    "            self.vertices[vertex.name] = vertex\n",
    "            print('Vertex %s has been added to graph'%(vertex.name))\n",
    "            \n",
    "            return True\n",
    "        else:\n",
    "            print('Vertex %s already exists in graph'%(vertex.name))\n",
    "            \n",
    "            return False\n",
    "        \n",
    "    def add_edge(self, u, v):\n",
    "        if u in self.vertices and v in self.vertices:\n",
    "\n",
    "            for key, value in self.vertices.items():\n",
    "                if key == u:\n",
    "                    value.add_neighbour(v)\n",
    "                if key == v:\n",
    "                    value.add_neighbour(u)   \n",
    "\n",
    "            return True\n",
    "        else:\n",
    "            return False        "
   ]
  },
  {
   "cell_type": "code",
   "execution_count": 287,
   "metadata": {},
   "outputs": [],
   "source": [
    "graph_inst = Graph()"
   ]
  },
  {
   "cell_type": "code",
   "execution_count": 288,
   "metadata": {},
   "outputs": [],
   "source": [
    "InteractiveShell.ast_node_interactivity = 'none'"
   ]
  },
  {
   "cell_type": "code",
   "execution_count": 289,
   "metadata": {},
   "outputs": [
    {
     "name": "stdout",
     "output_type": "stream",
     "text": [
      "Vertex a has been added to graph\n",
      "Vertex b has been added to graph\n",
      "Vertex c has been added to graph\n",
      "Vertex d has been added to graph\n",
      "Vertex e has been added to graph\n",
      "Vertex f has been added to graph\n",
      "Vertex g has been added to graph\n",
      "Vertex h has been added to graph\n",
      "Vertex i has been added to graph\n",
      "Vertex j has been added to graph\n"
     ]
    }
   ],
   "source": [
    "for vertex_name in range(ord('a'), ord('k')):\n",
    "    graph_inst.add_vertex(Vertex(chr(vertex_name)))"
   ]
  },
  {
   "cell_type": "code",
   "execution_count": 290,
   "metadata": {},
   "outputs": [],
   "source": [
    "edges = ['ab', 'ac', 'ae', 'bd', 'bc', 'ce', 'cd', 'de', 'df', 'dg', 'dh', 'ef', 'ei', 'ej', 'fi', 'fj' ]"
   ]
  },
  {
   "cell_type": "code",
   "execution_count": 291,
   "metadata": {},
   "outputs": [],
   "source": [
    "for edge in edges:\n",
    "    graph_inst.add_edge(edge[:1], edge[1:])"
   ]
  },
  {
   "cell_type": "code",
   "execution_count": 292,
   "metadata": {},
   "outputs": [
    {
     "name": "stdout",
     "output_type": "stream",
     "text": [
      "__main__.Graph(\n",
      "   vertices = {\n",
      "         'a': __main__.Vertex(name = 'a', neighbours = ['b', 'c', 'e']), \n",
      "         'b': __main__.Vertex(name = 'b', neighbours = ['a', 'c', 'd']), \n",
      "         'c': __main__.Vertex(name = 'c', neighbours = ['a', 'b', 'd', 'e']), \n",
      "         'd': __main__.Vertex(\n",
      "            name = 'd',    neighbours = ['b', 'c', 'e', 'f', 'g', 'h']), \n",
      "         'e': __main__.Vertex(\n",
      "            name = 'e',    neighbours = ['a', 'c', 'd', 'f', 'i', 'j']), \n",
      "         'f': __main__.Vertex(name = 'f', neighbours = ['d', 'e', 'i', 'j']), \n",
      "         'g': __main__.Vertex(name = 'g', neighbours = ['d']), \n",
      "         'h': __main__.Vertex(name = 'h', neighbours = ['d']), \n",
      "         'i': __main__.Vertex(name = 'i', neighbours = ['e', 'f']), \n",
      "         'j': __main__.Vertex(name = 'j', neighbours = ['e', 'f'])\n",
      "      }\n",
      ")\n"
     ]
    }
   ],
   "source": [
    "print(ppretty(graph_inst, show_address=False, indent='   ',\n",
    "              show_properties=True, show_static=True, show_protected=True, seq_length=20))"
   ]
  }
 ],
 "metadata": {
  "kernelspec": {
   "display_name": "Python 3",
   "language": "python",
   "name": "python3"
  },
  "language_info": {
   "codemirror_mode": {
    "name": "ipython",
    "version": 3
   },
   "file_extension": ".py",
   "mimetype": "text/x-python",
   "name": "python",
   "nbconvert_exporter": "python",
   "pygments_lexer": "ipython3",
   "version": "3.6.8"
  }
 },
 "nbformat": 4,
 "nbformat_minor": 2
}
