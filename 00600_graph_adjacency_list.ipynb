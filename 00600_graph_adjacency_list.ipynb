{
 "cells": [
  {
   "cell_type": "code",
   "execution_count": 30,
   "metadata": {},
   "outputs": [],
   "source": [
    "import pixiedust\n",
    "from ppretty import ppretty"
   ]
  },
  {
   "cell_type": "code",
   "execution_count": 31,
   "metadata": {},
   "outputs": [],
   "source": [
    "class Vertex:\n",
    "    def __init__(self, name):\n",
    "        self.name = name\n",
    "        self.neighbours = list()\n",
    "    \n",
    "    \n",
    "    def add_neighbours(self, neighbour):\n",
    "        if(neighbour not in self.neighbours):\n",
    "            self.neighbours.append(neighbour)\n",
    "            self.neighbours.sort()\n",
    "            \n",
    "            return True\n",
    "        else:\n",
    "            return False"
   ]
  },
  {
   "cell_type": "code",
   "execution_count": 32,
   "metadata": {},
   "outputs": [
    {
     "data": {
      "text/plain": [
       "False"
      ]
     },
     "execution_count": 32,
     "metadata": {},
     "output_type": "execute_result"
    }
   ],
   "source": [
    "vertex_inst = Vertex('A')\n",
    "vertex_inst.add_neighbours('C')\n",
    "vertex_inst.add_neighbours('E')\n",
    "vertex_inst.add_neighbours('B')\n",
    "vertex_inst.add_neighbours('B')"
   ]
  },
  {
   "cell_type": "code",
   "execution_count": 33,
   "metadata": {},
   "outputs": [
    {
     "name": "stdout",
     "output_type": "stream",
     "text": [
      "__main__.Vertex(\n",
      " name = 'A', \n",
      " neighbours = ['B', 'C', 'E']\n",
      ")\n"
     ]
    }
   ],
   "source": [
    "print(ppretty(vertex_inst, indent=' ', width=40, seq_length=10,\n",
    "              show_protected=True, show_static=True, show_properties=True, show_address=False))"
   ]
  }
 ],
 "metadata": {
  "kernelspec": {
   "display_name": "Python 3",
   "language": "python",
   "name": "python3"
  },
  "language_info": {
   "codemirror_mode": {
    "name": "ipython",
    "version": 3
   },
   "file_extension": ".py",
   "mimetype": "text/x-python",
   "name": "python",
   "nbconvert_exporter": "python",
   "pygments_lexer": "ipython3",
   "version": "3.6.8"
  }
 },
 "nbformat": 4,
 "nbformat_minor": 2
}
