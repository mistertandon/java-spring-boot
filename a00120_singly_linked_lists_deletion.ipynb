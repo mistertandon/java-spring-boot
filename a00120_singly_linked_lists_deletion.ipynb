{
 "cells": [
  {
   "cell_type": "code",
   "execution_count": 35,
   "metadata": {},
   "outputs": [],
   "source": [
    "import import_ipynb\n",
    "from a00100_singly_linked_lists import Node, LinkedList"
   ]
  },
  {
   "cell_type": "code",
   "execution_count": 36,
   "metadata": {},
   "outputs": [],
   "source": [
    "class LinkedListDeleteOperations(LinkedList):\n",
    "    \n",
    "    def __init__(self):\n",
    "        LinkedList.__init__(self)\n",
    "\n",
    "\n",
    "    def delete_node_at_last(self):\n",
    "        \n",
    "        if self.head is None:\n",
    "            self.print_empty_linked_list_message()\n",
    "\n",
    "        current_node = self.head\n",
    "        if current_node.next is None:\n",
    "            self.head = None\n",
    "        else:\n",
    "            while current_node.next is not None:\n",
    "                prev_node = current_node\n",
    "                current_node = current_node.next\n",
    "            else:\n",
    "                prev_node.next = None\n",
    "        \n",
    "        return True\n",
    "\n",
    "    \n",
    "    def remove_duplicate_nodes(self):\n",
    "        \n",
    "        unique_elements_dict = {}\n",
    "        current_node = self.head\n",
    "        prev_node = None\n",
    "        \n",
    "        while current_node is not None:\n",
    "            \n",
    "            if current_node.data in unique_elements_dict:\n",
    "                prev_node.next = current_node.next\n",
    "                current_node.next = None\n",
    "            else:\n",
    "                unique_elements_dict[current_node.data] = 1\n",
    "            \n",
    "            prev_node = current_node\n",
    "            current_node = current_node.next"
   ]
  },
  {
   "cell_type": "code",
   "execution_count": 37,
   "metadata": {},
   "outputs": [],
   "source": [
    "linked_list_inst_a = LinkedListDeleteOperations()"
   ]
  },
  {
   "cell_type": "code",
   "execution_count": 38,
   "metadata": {},
   "outputs": [],
   "source": [
    "linked_list_inst_a.append_node(\"A\")\n",
    "linked_list_inst_a.append_node(\"B\")\n",
    "linked_list_inst_a.append_node(\"C\")\n",
    "linked_list_inst_a.append_node(\"C\")\n",
    "linked_list_inst_a.append_node(\"E\")"
   ]
  },
  {
   "cell_type": "code",
   "execution_count": 39,
   "metadata": {},
   "outputs": [
    {
     "name": "stdout",
     "output_type": "stream",
     "text": [
      "A\n",
      "B\n",
      "C\n",
      "C\n",
      "E\n"
     ]
    }
   ],
   "source": [
    "linked_list_inst_a.print_linked_list()"
   ]
  },
  {
   "cell_type": "code",
   "execution_count": 40,
   "metadata": {},
   "outputs": [
    {
     "data": {
      "text/plain": [
       "True"
      ]
     },
     "execution_count": 40,
     "metadata": {},
     "output_type": "execute_result"
    }
   ],
   "source": [
    "linked_list_inst_a.delete_node_at_last()"
   ]
  },
  {
   "cell_type": "code",
   "execution_count": 41,
   "metadata": {},
   "outputs": [
    {
     "name": "stdout",
     "output_type": "stream",
     "text": [
      "A\n",
      "B\n",
      "C\n",
      "C\n"
     ]
    }
   ],
   "source": [
    "linked_list_inst_a.print_linked_list()"
   ]
  },
  {
   "cell_type": "code",
   "execution_count": 42,
   "metadata": {},
   "outputs": [
    {
     "name": "stdout",
     "output_type": "stream",
     "text": [
      "A\n",
      "B\n",
      "C\n"
     ]
    }
   ],
   "source": [
    "linked_list_inst_a.remove_duplicate_nodes()\n",
    "linked_list_inst_a.print_linked_list()"
   ]
  }
 ],
 "metadata": {
  "kernelspec": {
   "display_name": "Python 3",
   "language": "python",
   "name": "python3"
  },
  "language_info": {
   "codemirror_mode": {
    "name": "ipython",
    "version": 3
   },
   "file_extension": ".py",
   "mimetype": "text/x-python",
   "name": "python",
   "nbconvert_exporter": "python",
   "pygments_lexer": "ipython3",
   "version": "3.6.8"
  }
 },
 "nbformat": 4,
 "nbformat_minor": 2
}
