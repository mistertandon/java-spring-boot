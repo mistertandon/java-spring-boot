{
 "cells": [
  {
   "cell_type": "code",
   "execution_count": null,
   "metadata": {},
   "outputs": [],
   "source": [
    "class Stack():\n",
    "        \n",
    "    def __init__(self):\n",
    "\n",
    "        self.items = []\n",
    "        self.size = None\n",
    "    \n",
    "    \n",
    "    def add(self, item):\n",
    "\n",
    "        self.items.append(item)\n",
    "        get_stack_length()\n",
    "\n",
    "\n",
    "    def remove(self, item):\n",
    "        \n",
    "        if self.size is None:\n",
    "            display_empty_stack_message('Invalid attempt')\n",
    "            \n",
    "        del self.items[-1]\n",
    "\n",
    "\n",
    "    def get_stack_length(self):\n",
    "        \n",
    "        counter = 0\n",
    "        for item in self.items:\n",
    "            counter++\n",
    "        else:\n",
    "            self.size = counter\n",
    "        \n",
    "        return self.size\n",
    "    \n",
    "\n",
    "    def display_empty_stack_message(message = None):\n",
    "        \n",
    "        display_message = None\n",
    "        if message is not None:\n",
    "            display_message = message\n",
    "        else:\n",
    "            display_message = 'Stack is empty'\n",
    "\n",
    "        return True\n",
    "\n",
    "\n",
    "    def display_stack_items(self):\n",
    "        \n",
    "        if self.size is None or self.size == 0:\n",
    "            display_empty_stack_message()\n",
    "        else:\n",
    "            for "
   ]
  },
  {
   "cell_type": "code",
   "execution_count": 1,
   "metadata": {},
   "outputs": [
    {
     "data": {
      "text/plain": [
       "3"
      ]
     },
     "execution_count": 1,
     "metadata": {},
     "output_type": "execute_result"
    }
   ],
   "source": [
    "a = [1, 2,3 ]\n",
    "a[-1]"
   ]
  }
 ],
 "metadata": {
  "kernelspec": {
   "display_name": "Python 3",
   "language": "python",
   "name": "python3"
  },
  "language_info": {
   "codemirror_mode": {
    "name": "ipython",
    "version": 3
   },
   "file_extension": ".py",
   "mimetype": "text/x-python",
   "name": "python",
   "nbconvert_exporter": "python",
   "pygments_lexer": "ipython3",
   "version": "3.6.8"
  }
 },
 "nbformat": 4,
 "nbformat_minor": 2
}
