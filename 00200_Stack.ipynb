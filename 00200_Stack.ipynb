{
 "cells": [
  {
   "cell_type": "code",
   "execution_count": 58,
   "metadata": {},
   "outputs": [],
   "source": [
    "class Stack():\n",
    "        \n",
    "    def __init__(self):\n",
    "\n",
    "        self.items = []\n",
    "        self.size = None\n",
    "    \n",
    "    \n",
    "    def add(self, item):\n",
    "\n",
    "        self.items.append(item)\n",
    "        self.get_stack_length()\n",
    "\n",
    "\n",
    "    def remove(self):\n",
    "        \n",
    "        if self.size is None or self.size == 0:\n",
    "            self.display_empty_stack_message('Invalid Attempt, remove operation cannot be permormed over empty Stack.')\n",
    "        else:\n",
    "            del self.items[-1]\n",
    "            self.get_stack_length()\n",
    "\n",
    "\n",
    "    def display_stack_items(self):\n",
    "        \n",
    "        if self.size is None or self.size == 0:\n",
    "            self.display_empty_stack_message()\n",
    "        else:\n",
    "            for i, item in enumerate(self.items):\n",
    "                print('Item at {}th index : {}'.format(i, item))\n",
    "        \n",
    "        return True\n",
    "    \n",
    "\n",
    "    def get_stack_length(self):\n",
    "        \n",
    "        counter = 0\n",
    "        for item in self.items:\n",
    "            counter += 1\n",
    "        else:\n",
    "            self.size = counter\n",
    "        \n",
    "        return self.size\n",
    "    \n",
    "    \n",
    "    def display_stack_length(self):\n",
    "        \n",
    "        if self.size is None or self.size == 0:\n",
    "            self.display_empty_stack_message('Stack has Zero element.')\n",
    "        else:\n",
    "            print('Stack has {} items.'.format(self.size))\n",
    "      \n",
    "        return True\n",
    "    \n",
    "\n",
    "    def display_empty_stack_message(self, message = None):\n",
    "\n",
    "        display_message = None\n",
    "        if message is not None:\n",
    "            display_message = message\n",
    "        else:\n",
    "            display_message = 'Stack is empty'\n",
    "        \n",
    "        print(display_message)\n",
    "        \n",
    "        return True"
   ]
  },
  {
   "cell_type": "code",
   "execution_count": 59,
   "metadata": {},
   "outputs": [],
   "source": [
    "stack_inst = Stack()"
   ]
  },
  {
   "cell_type": "code",
   "execution_count": 60,
   "metadata": {},
   "outputs": [
    {
     "name": "stdout",
     "output_type": "stream",
     "text": [
      "Stack is empty\n"
     ]
    }
   ],
   "source": [
    "stack_inst.display_stack_items()"
   ]
  },
  {
   "cell_type": "code",
   "execution_count": 61,
   "metadata": {},
   "outputs": [
    {
     "name": "stdout",
     "output_type": "stream",
     "text": [
      "Invalid Attempt, remove operation cannot be permormed over empty Stack.\n"
     ]
    }
   ],
   "source": [
    "stack_inst.remove()"
   ]
  },
  {
   "cell_type": "code",
   "execution_count": 62,
   "metadata": {},
   "outputs": [],
   "source": [
    "stack_inst.add(11)\n",
    "stack_inst.add(12)\n",
    "stack_inst.add(13)\n",
    "stack_inst.add(14)"
   ]
  },
  {
   "cell_type": "code",
   "execution_count": 63,
   "metadata": {},
   "outputs": [
    {
     "name": "stdout",
     "output_type": "stream",
     "text": [
      "Item at 0th index : 11\n",
      "Item at 1th index : 12\n",
      "Item at 2th index : 13\n",
      "Item at 3th index : 14\n"
     ]
    }
   ],
   "source": [
    "stack_inst.display_stack_items()"
   ]
  },
  {
   "cell_type": "code",
   "execution_count": 64,
   "metadata": {},
   "outputs": [
    {
     "name": "stdout",
     "output_type": "stream",
     "text": [
      "Stack has 4 items.\n"
     ]
    },
    {
     "data": {
      "text/plain": [
       "True"
      ]
     },
     "execution_count": 64,
     "metadata": {},
     "output_type": "execute_result"
    }
   ],
   "source": [
    "stack_inst.display_stack_length()"
   ]
  }
 ],
 "metadata": {
  "kernelspec": {
   "display_name": "Python 3",
   "language": "python",
   "name": "python3"
  },
  "language_info": {
   "codemirror_mode": {
    "name": "ipython",
    "version": 3
   },
   "file_extension": ".py",
   "mimetype": "text/x-python",
   "name": "python",
   "nbconvert_exporter": "python",
   "pygments_lexer": "ipython3",
   "version": "3.6.8"
  }
 },
 "nbformat": 4,
 "nbformat_minor": 2
}
