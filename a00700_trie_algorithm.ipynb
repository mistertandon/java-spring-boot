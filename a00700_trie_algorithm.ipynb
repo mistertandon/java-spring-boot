{
 "cells": [
  {
   "cell_type": "code",
   "execution_count": 36,
   "metadata": {},
   "outputs": [],
   "source": [
    "from IPython.core.interactiveshell import InteractiveShell\n",
    "InteractiveShell.ast_node_interactivity = 'none'"
   ]
  },
  {
   "cell_type": "code",
   "execution_count": 37,
   "metadata": {},
   "outputs": [],
   "source": [
    "import import_ipynb\n",
    "from a000100_helper import print_object, print_variable_type"
   ]
  },
  {
   "cell_type": "code",
   "execution_count": 38,
   "metadata": {},
   "outputs": [],
   "source": [
    "class TrieNode(object):\n",
    "    def __init__(self, end_character = False):\n",
    "        self.mapping = dict()\n",
    "        self.end_character = end_character\n",
    "        \n",
    "    def update_key(self, key, value):\n",
    "        self.mapping[key] = value\n",
    "\n",
    "        return True\n",
    "\n",
    "    def get_key_value(self, key):\n",
    "        return self.mapping.get(key)"
   ]
  },
  {
   "cell_type": "code",
   "execution_count": 39,
   "metadata": {},
   "outputs": [],
   "source": [
    "class TrieNodeImp(object):\n",
    "    def __init__(self, trie_node_inst):\n",
    "        self.mapped_nodes = trie_node_inst\n",
    "\n",
    "\n",
    "    def get_mapped_nodes(self):\n",
    "        return self.mapped_nodes\n",
    "\n",
    "\n",
    "    def add_string(self, string_ref = None):\n",
    "        \n",
    "        if string_ref is None:\n",
    "            print('Input string is empty')\n",
    "            return False\n",
    "        \n",
    "        string_len = len(string_ref) - 1\n",
    "        \n",
    "        mapped_nodes = self.mapped_nodes\n",
    "        for index, character in enumerate(string_ref):\n",
    "            is_end_character = True if string_len == index else False\n",
    "            mapped_nodes.update_key(character, TrieNode(is_end_character))\n",
    "            mapped_nodes = mapped_nodes.get_key_value(character)"
   ]
  },
  {
   "cell_type": "code",
   "execution_count": 40,
   "metadata": {},
   "outputs": [],
   "source": [
    "trie_node_imp_inst = TrieNodeImp(TrieNode(True))"
   ]
  },
  {
   "cell_type": "code",
   "execution_count": 41,
   "metadata": {},
   "outputs": [
    {
     "name": "stdout",
     "output_type": "stream",
     "text": [
      "__main__.TrieNodeImp(\n",
      "   mapped_nodes = __main__.TrieNode(end_character = True, mapping = {})\n",
      ")\n"
     ]
    }
   ],
   "source": [
    "print_object(trie_node_imp_inst)"
   ]
  },
  {
   "cell_type": "code",
   "execution_count": 42,
   "metadata": {},
   "outputs": [],
   "source": [
    "trie_node_imp_inst.add_string('abc')"
   ]
  },
  {
   "cell_type": "code",
   "execution_count": 43,
   "metadata": {},
   "outputs": [],
   "source": [
    "mapped_nodes = trie_node_imp_inst.get_mapped_nodes()"
   ]
  },
  {
   "cell_type": "code",
   "execution_count": 44,
   "metadata": {},
   "outputs": [
    {
     "name": "stdout",
     "output_type": "stream",
     "text": [
      "__main__.TrieNode(\n",
      "   end_character = True, \n",
      "   mapping = {\n",
      "         'a': __main__.TrieNode(\n",
      "               end_character = False, \n",
      "               mapping = {\n",
      "                     'b': __main__.TrieNode(\n",
      "                           end_character = False, \n",
      "                           mapping = {\n",
      "                                 'c': __main__.TrieNode(end_character = True, mapping = {})\n",
      "                              }\n",
      "                        )\n",
      "                  }\n",
      "            )\n",
      "      }\n",
      ")\n"
     ]
    }
   ],
   "source": [
    "print_object(mapped_nodes)"
   ]
  }
 ],
 "metadata": {
  "kernelspec": {
   "display_name": "Python 3",
   "language": "python",
   "name": "python3"
  },
  "toc": {
   "base_numbering": 1,
   "nav_menu": {},
   "number_sections": true,
   "sideBar": true,
   "skip_h1_title": false,
   "title_cell": "Table of Contents",
   "title_sidebar": "Contents",
   "toc_cell": false,
   "toc_position": {},
   "toc_section_display": true,
   "toc_window_display": false
  }
 },
 "nbformat": 4,
 "nbformat_minor": 2
}
